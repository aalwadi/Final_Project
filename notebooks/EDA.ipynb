{
 "cells": [
  {
   "cell_type": "code",
   "execution_count": 1,
   "metadata": {},
   "outputs": [],
   "source": [
    "#Data manipulation libraries\n",
    "import pandas as pd\n",
    "import numpy as np\n",
    "\n",
    "#Visualization libraries\n",
    "import matplotlib.pyplot as plt\n",
    "from matplotlib.colors import ListedColormap\n",
    "import matplotlib.patches as mpatches\n",
    "import seaborn as sns\n",
    "from wordcloud import WordCloud\n",
    "from sklearn.feature_extraction.text import ENGLISH_STOP_WORDS, CountVectorizer, CountVectorizer\n",
    "\n",
    "#Sentiment Analysis\n",
    "from nltk.tokenize import word_tokenize\n",
    "from textblob import TextBlob\n",
    "from vaderSentiment.vaderSentiment import SentimentIntensityAnalyzer"
   ]
  },
  {
   "cell_type": "code",
   "execution_count": 2,
   "metadata": {},
   "outputs": [
    {
     "name": "stdout",
     "output_type": "stream",
     "text": [
      "(23486, 11)\n"
     ]
    }
   ],
   "source": [
    "url=\"../data/E-Commerce_Reviews.csv\"\n",
    "df = pd.read_csv(url)\n",
    "print(df.shape)"
   ]
  },
  {
   "cell_type": "markdown",
   "metadata": {},
   "source": [
    "### 3. Cleaning up the dataset"
   ]
  },
  {
   "cell_type": "markdown",
   "metadata": {},
   "source": [
    "#### 3.1 Initial Data Inspection\n",
    "To start with the cleaning process, a quick look once over of the dataset is useful to identify any outliers."
   ]
  },
  {
   "cell_type": "code",
   "execution_count": 3,
   "metadata": {},
   "outputs": [
    {
     "data": {
      "text/html": [
       "<div>\n",
       "<style scoped>\n",
       "    .dataframe tbody tr th:only-of-type {\n",
       "        vertical-align: middle;\n",
       "    }\n",
       "\n",
       "    .dataframe tbody tr th {\n",
       "        vertical-align: top;\n",
       "    }\n",
       "\n",
       "    .dataframe thead th {\n",
       "        text-align: right;\n",
       "    }\n",
       "</style>\n",
       "<table border=\"1\" class=\"dataframe\">\n",
       "  <thead>\n",
       "    <tr style=\"text-align: right;\">\n",
       "      <th></th>\n",
       "      <th>Unnamed: 0</th>\n",
       "      <th>Clothing ID</th>\n",
       "      <th>Age</th>\n",
       "      <th>Title</th>\n",
       "      <th>Review Text</th>\n",
       "      <th>Rating</th>\n",
       "      <th>Recommended IND</th>\n",
       "      <th>Positive Feedback Count</th>\n",
       "      <th>Division Name</th>\n",
       "      <th>Department Name</th>\n",
       "      <th>Class Name</th>\n",
       "    </tr>\n",
       "  </thead>\n",
       "  <tbody>\n",
       "    <tr>\n",
       "      <th>14283</th>\n",
       "      <td>14283</td>\n",
       "      <td>139</td>\n",
       "      <td>53</td>\n",
       "      <td>NaN</td>\n",
       "      <td>Great layering top. so comfy, feels soft as my...</td>\n",
       "      <td>5</td>\n",
       "      <td>1</td>\n",
       "      <td>0</td>\n",
       "      <td>Initmates</td>\n",
       "      <td>Intimate</td>\n",
       "      <td>Layering</td>\n",
       "    </tr>\n",
       "    <tr>\n",
       "      <th>15611</th>\n",
       "      <td>15611</td>\n",
       "      <td>867</td>\n",
       "      <td>47</td>\n",
       "      <td>NaN</td>\n",
       "      <td>NaN</td>\n",
       "      <td>5</td>\n",
       "      <td>1</td>\n",
       "      <td>0</td>\n",
       "      <td>General Petite</td>\n",
       "      <td>Tops</td>\n",
       "      <td>Knits</td>\n",
       "    </tr>\n",
       "    <tr>\n",
       "      <th>5162</th>\n",
       "      <td>5162</td>\n",
       "      <td>818</td>\n",
       "      <td>54</td>\n",
       "      <td>Beautiful detail</td>\n",
       "      <td>I love this top. it comes with its own camisol...</td>\n",
       "      <td>5</td>\n",
       "      <td>1</td>\n",
       "      <td>3</td>\n",
       "      <td>General Petite</td>\n",
       "      <td>Tops</td>\n",
       "      <td>Blouses</td>\n",
       "    </tr>\n",
       "    <tr>\n",
       "      <th>21723</th>\n",
       "      <td>21723</td>\n",
       "      <td>895</td>\n",
       "      <td>33</td>\n",
       "      <td>So very pretty</td>\n",
       "      <td>This is such a classy, elegant and interest pi...</td>\n",
       "      <td>5</td>\n",
       "      <td>1</td>\n",
       "      <td>1</td>\n",
       "      <td>General Petite</td>\n",
       "      <td>Tops</td>\n",
       "      <td>Fine gauge</td>\n",
       "    </tr>\n",
       "    <tr>\n",
       "      <th>23172</th>\n",
       "      <td>23172</td>\n",
       "      <td>1094</td>\n",
       "      <td>30</td>\n",
       "      <td>Great!!!!</td>\n",
       "      <td>I purchased this dress in the raspberry for my...</td>\n",
       "      <td>5</td>\n",
       "      <td>1</td>\n",
       "      <td>0</td>\n",
       "      <td>General</td>\n",
       "      <td>Dresses</td>\n",
       "      <td>Dresses</td>\n",
       "    </tr>\n",
       "  </tbody>\n",
       "</table>\n",
       "</div>"
      ],
      "text/plain": [
       "       Unnamed: 0  Clothing ID  Age             Title   \n",
       "14283       14283          139   53               NaN  \\\n",
       "15611       15611          867   47               NaN   \n",
       "5162         5162          818   54  Beautiful detail   \n",
       "21723       21723          895   33    So very pretty   \n",
       "23172       23172         1094   30         Great!!!!   \n",
       "\n",
       "                                             Review Text  Rating   \n",
       "14283  Great layering top. so comfy, feels soft as my...       5  \\\n",
       "15611                                                NaN       5   \n",
       "5162   I love this top. it comes with its own camisol...       5   \n",
       "21723  This is such a classy, elegant and interest pi...       5   \n",
       "23172  I purchased this dress in the raspberry for my...       5   \n",
       "\n",
       "       Recommended IND  Positive Feedback Count   Division Name   \n",
       "14283                1                        0       Initmates  \\\n",
       "15611                1                        0  General Petite   \n",
       "5162                 1                        3  General Petite   \n",
       "21723                1                        1  General Petite   \n",
       "23172                1                        0         General   \n",
       "\n",
       "      Department Name  Class Name  \n",
       "14283        Intimate    Layering  \n",
       "15611            Tops       Knits  \n",
       "5162             Tops     Blouses  \n",
       "21723            Tops  Fine gauge  \n",
       "23172         Dresses     Dresses  "
      ]
     },
     "execution_count": 3,
     "metadata": {},
     "output_type": "execute_result"
    }
   ],
   "source": [
    "df.sample(5)"
   ]
  },
  {
   "cell_type": "markdown",
   "metadata": {},
   "source": [
    "The data set contains 23,486 rows of data. At first glance, the dataset has one column that appears to contain redundant index information. The following code is to drop that column."
   ]
  },
  {
   "cell_type": "code",
   "execution_count": 4,
   "metadata": {},
   "outputs": [],
   "source": [
    "#we drop the unnamed because it`s a duplicate`\n",
    "df = df.drop(columns = \"Unnamed: 0\")"
   ]
  },
  {
   "cell_type": "markdown",
   "metadata": {},
   "source": [
    "In addition, the column names could be improved by converting to snake case without spaces separated by an underscore, and all letters in lowercase."
   ]
  },
  {
   "cell_type": "code",
   "execution_count": 5,
   "metadata": {},
   "outputs": [
    {
     "name": "stdout",
     "output_type": "stream",
     "text": [
      "Index(['clothing_id', 'age', 'title', 'review_text', 'rating',\n",
      "       'recommended_ind', 'positive_feedback_count', 'division_name',\n",
      "       'department_name', 'class_name'],\n",
      "      dtype='object')\n"
     ]
    }
   ],
   "source": [
    "df.columns = (df.columns\n",
    "                .str.replace(' ', '_')\n",
    "                .str.lower()\n",
    "             )\n",
    "print(df.columns)"
   ]
  },
  {
   "cell_type": "markdown",
   "metadata": {},
   "source": [
    "#### 3.2 Handling Missing Values\n",
    "Also, another good practice is to give a check on how many null values there are in the dataset.¶\n",
    "Note: I personally like doing this before converting the objects into strings to avoid converting NA values into actual strings."
   ]
  },
  {
   "cell_type": "code",
   "execution_count": 6,
   "metadata": {},
   "outputs": [
    {
     "data": {
      "text/plain": [
       "clothing_id                   0\n",
       "age                           0\n",
       "title                      3810\n",
       "review_text                 845\n",
       "rating                        0\n",
       "recommended_ind               0\n",
       "positive_feedback_count       0\n",
       "division_name                14\n",
       "department_name              14\n",
       "class_name                   14\n",
       "dtype: int64"
      ]
     },
     "execution_count": 6,
     "metadata": {},
     "output_type": "execute_result"
    }
   ],
   "source": [
    "df.isna().sum() "
   ]
  },
  {
   "cell_type": "markdown",
   "metadata": {},
   "source": [
    "Most of the null values are concentrated in the title column. Because we will not be working with this column during the analysis, this does not affect the results. The number of null values in review_text is also significant but this will be addressed in the next block of code"
   ]
  },
  {
   "cell_type": "code",
   "execution_count": 7,
   "metadata": {},
   "outputs": [
    {
     "name": "stdout",
     "output_type": "stream",
     "text": [
      "       clothing_id  age title review_text  rating  recommended_ind   \n",
      "92             861   23   NaN         NaN       5                1  \\\n",
      "93            1081   31   NaN         NaN       5                1   \n",
      "98            1133   50   NaN         NaN       5                1   \n",
      "135            861   35   NaN         NaN       4                1   \n",
      "142           1126   35   NaN         NaN       5                1   \n",
      "...            ...  ...   ...         ...     ...              ...   \n",
      "23258          862   35   NaN         NaN       4                1   \n",
      "23301          862   52   NaN         NaN       5                1   \n",
      "23303          823   46   NaN         NaN       5                1   \n",
      "23470         1104   39   NaN         NaN       5                1   \n",
      "23480          862   35   NaN         NaN       5                1   \n",
      "\n",
      "       positive_feedback_count   division_name department_name class_name  \n",
      "92                           0  General Petite            Tops      Knits  \n",
      "93                           0         General         Dresses    Dresses  \n",
      "98                           0         General         Jackets  Outerwear  \n",
      "135                          0  General Petite            Tops      Knits  \n",
      "142                          0         General         Jackets  Outerwear  \n",
      "...                        ...             ...             ...        ...  \n",
      "23258                        0         General            Tops      Knits  \n",
      "23301                        0         General            Tops      Knits  \n",
      "23303                        0         General            Tops    Blouses  \n",
      "23470                        0  General Petite         Dresses    Dresses  \n",
      "23480                        0  General Petite            Tops      Knits  \n",
      "\n",
      "[845 rows x 10 columns]\n"
     ]
    }
   ],
   "source": [
    "rows_with_na = df[df['review_text'].isna()]\n",
    "print(rows_with_na)"
   ]
  },
  {
   "cell_type": "markdown",
   "metadata": {},
   "source": [
    "The following code displays the rows of reviews that are empty (all these coincide with having an empty title as well). Out of the total 23,486 actual rows, 845 have null values on review_text and 3810 null titles. So by removing the empty review_texts rows we reduce the instances of null titles as well. Also, because the analysis is mostly based on review_text, the Nan values on title have no impact on our analysis.¶\n",
    "The way of dealing with null values will be different depending on the data we are handling and the purpose of the analysis. In this case, I'd like to know what percentage of the dataset these null values on reviews represent."
   ]
  },
  {
   "cell_type": "code",
   "execution_count": 8,
   "metadata": {},
   "outputs": [
    {
     "name": "stdout",
     "output_type": "stream",
     "text": [
      "       clothing_id  age title review_text  rating  recommended_ind   \n",
      "92             861   23   NaN         NaN       5                1  \\\n",
      "93            1081   31   NaN         NaN       5                1   \n",
      "98            1133   50   NaN         NaN       5                1   \n",
      "135            861   35   NaN         NaN       4                1   \n",
      "142           1126   35   NaN         NaN       5                1   \n",
      "...            ...  ...   ...         ...     ...              ...   \n",
      "23258          862   35   NaN         NaN       4                1   \n",
      "23301          862   52   NaN         NaN       5                1   \n",
      "23303          823   46   NaN         NaN       5                1   \n",
      "23470         1104   39   NaN         NaN       5                1   \n",
      "23480          862   35   NaN         NaN       5                1   \n",
      "\n",
      "       positive_feedback_count   division_name department_name class_name  \n",
      "92                           0  General Petite            Tops      Knits  \n",
      "93                           0         General         Dresses    Dresses  \n",
      "98                           0         General         Jackets  Outerwear  \n",
      "135                          0  General Petite            Tops      Knits  \n",
      "142                          0         General         Jackets  Outerwear  \n",
      "...                        ...             ...             ...        ...  \n",
      "23258                        0         General            Tops      Knits  \n",
      "23301                        0         General            Tops      Knits  \n",
      "23303                        0         General            Tops    Blouses  \n",
      "23470                        0  General Petite         Dresses    Dresses  \n",
      "23480                        0  General Petite            Tops      Knits  \n",
      "\n",
      "[845 rows x 10 columns]\n"
     ]
    }
   ],
   "source": [
    "rows_with_na = df[df['review_text'].isna()]\n",
    "print(rows_with_na)"
   ]
  },
  {
   "cell_type": "code",
   "execution_count": 9,
   "metadata": {},
   "outputs": [
    {
     "name": "stdout",
     "output_type": "stream",
     "text": [
      "Percentage of Missing Values: 3.60%\n"
     ]
    }
   ],
   "source": [
    "total_rows = len(df)\n",
    "missing_rows = df['review_text'].isna().sum()\n",
    "\n",
    "percentage_missing = (missing_rows / total_rows) * 100\n",
    "print(f'Percentage of Missing Values: {percentage_missing:.2f}%')"
   ]
  },
  {
   "cell_type": "markdown",
   "metadata": {},
   "source": [
    "Next step would be to drop rows with missing values from Reviews."
   ]
  },
  {
   "cell_type": "code",
   "execution_count": 10,
   "metadata": {},
   "outputs": [],
   "source": [
    "df = df.dropna(subset=['review_text'])"
   ]
  },
  {
   "cell_type": "markdown",
   "metadata": {},
   "source": [
    "In addition, the 14 Nan values appearing in division_name are going to be removed, this will probably also resolve the Nan of department_name and class_name."
   ]
  },
  {
   "cell_type": "code",
   "execution_count": 11,
   "metadata": {},
   "outputs": [],
   "source": [
    "df = df.dropna(subset=['division_name'])"
   ]
  },
  {
   "cell_type": "code",
   "execution_count": 12,
   "metadata": {},
   "outputs": [
    {
     "data": {
      "text/plain": [
       "clothing_id                   0\n",
       "age                           0\n",
       "title                      2966\n",
       "review_text                   0\n",
       "rating                        0\n",
       "recommended_ind               0\n",
       "positive_feedback_count       0\n",
       "division_name                 0\n",
       "department_name               0\n",
       "class_name                    0\n",
       "dtype: int64"
      ]
     },
     "execution_count": 12,
     "metadata": {},
     "output_type": "execute_result"
    }
   ],
   "source": [
    "df.isna().sum() "
   ]
  },
  {
   "cell_type": "markdown",
   "metadata": {},
   "source": [
    "#### 3.3 Checking for Duplicates\n",
    "The following code evaluates each column of the DataFrame to identify rows containing identical data. The outcome marks duplicates as True while the first occurrence of any duplicate row remains unmarked (ex. False)"
   ]
  },
  {
   "cell_type": "code",
   "execution_count": 13,
   "metadata": {},
   "outputs": [
    {
     "data": {
      "text/html": [
       "<div>\n",
       "<style scoped>\n",
       "    .dataframe tbody tr th:only-of-type {\n",
       "        vertical-align: middle;\n",
       "    }\n",
       "\n",
       "    .dataframe tbody tr th {\n",
       "        vertical-align: top;\n",
       "    }\n",
       "\n",
       "    .dataframe thead th {\n",
       "        text-align: right;\n",
       "    }\n",
       "</style>\n",
       "<table border=\"1\" class=\"dataframe\">\n",
       "  <thead>\n",
       "    <tr style=\"text-align: right;\">\n",
       "      <th></th>\n",
       "      <th>clothing_id</th>\n",
       "      <th>age</th>\n",
       "      <th>title</th>\n",
       "      <th>review_text</th>\n",
       "      <th>rating</th>\n",
       "      <th>recommended_ind</th>\n",
       "      <th>positive_feedback_count</th>\n",
       "      <th>division_name</th>\n",
       "      <th>department_name</th>\n",
       "      <th>class_name</th>\n",
       "    </tr>\n",
       "  </thead>\n",
       "  <tbody>\n",
       "    <tr>\n",
       "      <th>21888</th>\n",
       "      <td>1022</td>\n",
       "      <td>37</td>\n",
       "      <td>NaN</td>\n",
       "      <td>Love, love these jeans. being short they come ...</td>\n",
       "      <td>5</td>\n",
       "      <td>1</td>\n",
       "      <td>0</td>\n",
       "      <td>General</td>\n",
       "      <td>Bottoms</td>\n",
       "      <td>Jeans</td>\n",
       "    </tr>\n",
       "  </tbody>\n",
       "</table>\n",
       "</div>"
      ],
      "text/plain": [
       "       clothing_id  age title   \n",
       "21888         1022   37   NaN  \\\n",
       "\n",
       "                                             review_text  rating   \n",
       "21888  Love, love these jeans. being short they come ...       5  \\\n",
       "\n",
       "       recommended_ind  positive_feedback_count division_name department_name   \n",
       "21888                1                        0       General         Bottoms  \\\n",
       "\n",
       "      class_name  \n",
       "21888      Jeans  "
      ]
     },
     "execution_count": 13,
     "metadata": {},
     "output_type": "execute_result"
    }
   ],
   "source": [
    "df[df.duplicated()]\n",
    "#Note to self: Why double df[]? Because in order to get it filtered by the boolean indexing."
   ]
  },
  {
   "cell_type": "markdown",
   "metadata": {},
   "source": [
    "Since only one duplicate entry was found in the dataset, it has been removed from the DataFrame."
   ]
  },
  {
   "cell_type": "code",
   "execution_count": 14,
   "metadata": {},
   "outputs": [],
   "source": [
    "df = df.drop_duplicates()"
   ]
  },
  {
   "cell_type": "markdown",
   "metadata": {},
   "source": [
    "#### 3.4 Data Type Optimization"
   ]
  },
  {
   "cell_type": "markdown",
   "metadata": {},
   "source": [
    "Identifying data types in order to find mismatches and correctly setting data types is important for effective data cleaning and analysis."
   ]
  },
  {
   "cell_type": "code",
   "execution_count": 15,
   "metadata": {},
   "outputs": [
    {
     "data": {
      "text/plain": [
       "clothing_id                 int64\n",
       "age                         int64\n",
       "title                      object\n",
       "review_text                object\n",
       "rating                      int64\n",
       "recommended_ind             int64\n",
       "positive_feedback_count     int64\n",
       "division_name              object\n",
       "department_name            object\n",
       "class_name                 object\n",
       "dtype: object"
      ]
     },
     "execution_count": 15,
     "metadata": {},
     "output_type": "execute_result"
    }
   ],
   "source": [
    "df.dtypes"
   ]
  },
  {
   "cell_type": "markdown",
   "metadata": {},
   "source": [
    "Object data types can be memory-intensive, especially if the column contains long strings or if there are many unique string values. In contrast, using more specific data types like int or category can save memory and improve performance\n",
    "Additionally, to identify categorical data, obtaining unique values from columns classified as 'Object' types is an effective method for detection."
   ]
  },
  {
   "cell_type": "code",
   "execution_count": 16,
   "metadata": {},
   "outputs": [
    {
     "name": "stdout",
     "output_type": "stream",
     "text": [
      "Unique values in the unique_division_name: ['Initmates' 'General' 'General Petite']\n",
      "Unique values in the unique_department_name: ['Intimate' 'Dresses' 'Bottoms' 'Tops' 'Jackets' 'Trend']\n",
      "Unique values in the unique_class_name: ['Intimates' 'Dresses' 'Pants' 'Blouses' 'Knits' 'Outerwear' 'Lounge'\n",
      " 'Sweaters' 'Skirts' 'Fine gauge' 'Sleep' 'Jackets' 'Swim' 'Trend' 'Jeans'\n",
      " 'Legwear' 'Shorts' 'Layering' 'Casual bottoms' 'Chemises']\n"
     ]
    }
   ],
   "source": [
    "unique_division_name = df['division_name'].unique()\n",
    "unique_department_name = df['department_name'].unique()\n",
    "unique_class_name = df['class_name'].unique()\n",
    "\n",
    "print(\"Unique values in the unique_division_name:\", unique_division_name)\n",
    "\n",
    "print(\"Unique values in the unique_department_name:\", unique_department_name)\n",
    "\n",
    "print(\"Unique values in the unique_class_name:\", unique_class_name)"
   ]
  },
  {
   "cell_type": "markdown",
   "metadata": {},
   "source": [
    "In this case, we could see there are some mispelled words like ¨Intimates¨ and replace the wrong ones."
   ]
  },
  {
   "cell_type": "code",
   "execution_count": 17,
   "metadata": {},
   "outputs": [],
   "source": [
    "df['division_name'] = df['division_name'].str.replace('Initmates', 'Intimates')\n",
    "df['department_name'] = df['department_name'].str.replace('Intimate', 'Intimates')"
   ]
  },
  {
   "cell_type": "markdown",
   "metadata": {},
   "source": [
    "Converting category columns into Category data type."
   ]
  },
  {
   "cell_type": "code",
   "execution_count": 18,
   "metadata": {},
   "outputs": [],
   "source": [
    "df['division_name'] = df['division_name'].astype('category')\n",
    "df['department_name'] = df['department_name'].astype('category')\n",
    "df['class_name'] = df['class_name'].astype('category')"
   ]
  },
  {
   "cell_type": "code",
   "execution_count": 19,
   "metadata": {},
   "outputs": [
    {
     "data": {
      "text/plain": [
       "array([1, 0], dtype=int64)"
      ]
     },
     "execution_count": 19,
     "metadata": {},
     "output_type": "execute_result"
    }
   ],
   "source": [
    "df['recommended_ind'].unique()"
   ]
  },
  {
   "cell_type": "markdown",
   "metadata": {},
   "source": [
    "Checking on how our new dataframe columns’ types look."
   ]
  },
  {
   "cell_type": "code",
   "execution_count": 20,
   "metadata": {},
   "outputs": [
    {
     "data": {
      "text/plain": [
       "clothing_id                   int64\n",
       "age                           int64\n",
       "title                        object\n",
       "review_text                  object\n",
       "rating                        int64\n",
       "recommended_ind               int64\n",
       "positive_feedback_count       int64\n",
       "division_name              category\n",
       "department_name            category\n",
       "class_name                 category\n",
       "dtype: object"
      ]
     },
     "execution_count": 20,
     "metadata": {},
     "output_type": "execute_result"
    }
   ],
   "source": [
    "df.dtypes"
   ]
  },
  {
   "cell_type": "markdown",
   "metadata": {},
   "source": [
    "#### 3.5 Age validation test"
   ]
  },
  {
   "cell_type": "code",
   "execution_count": 21,
   "metadata": {},
   "outputs": [
    {
     "name": "stdout",
     "output_type": "stream",
     "text": [
      "Test passed: Age goes from 18 to 99 which makes sense.\n"
     ]
    }
   ],
   "source": [
    "min_age = df['age'].min()\n",
    "max_age = df['age'].max()\n",
    "\n",
    "if (min_age>18 & max_age<99):\n",
    "    print(f\"Test passed: Age goes from {min_age} to {max_age} which makes sense.\")\n",
    "else:\n",
    "    print(f\"Test not passed, age goes from {min_age} to {max_age} \")"
   ]
  },
  {
   "cell_type": "markdown",
   "metadata": {},
   "source": [
    "#### 3.6 Data Index Reset\n",
    "It's often a good idea to reset the index for clarity and consistency, especially if the DataFrame will be used for further transformations or analyses."
   ]
  },
  {
   "cell_type": "code",
   "execution_count": 22,
   "metadata": {},
   "outputs": [],
   "source": [
    "df.reset_index(drop=True, inplace=True) \n",
    "#Note to self: inplace=True to avoid adding the old index as a new column"
   ]
  },
  {
   "cell_type": "markdown",
   "metadata": {},
   "source": [
    "### 4 Exploratory Data Analysis (EDA)"
   ]
  },
  {
   "cell_type": "markdown",
   "metadata": {},
   "source": [
    "#### 4.1 Qualitative Analysis\n",
    "Dataset's structure: To gain a more comprehensive insight into the organization of the dataframe, a pivot table is utilized. This tool effectively illustrates the hierarchical arrangement of departments within divisions, providing a clear view of the dataset's structure."
   ]
  },
  {
   "cell_type": "code",
   "execution_count": 23,
   "metadata": {},
   "outputs": [
    {
     "data": {
      "text/html": [
       "<div>\n",
       "<style scoped>\n",
       "    .dataframe tbody tr th:only-of-type {\n",
       "        vertical-align: middle;\n",
       "    }\n",
       "\n",
       "    .dataframe tbody tr th {\n",
       "        vertical-align: top;\n",
       "    }\n",
       "\n",
       "    .dataframe thead th {\n",
       "        text-align: right;\n",
       "    }\n",
       "</style>\n",
       "<table border=\"1\" class=\"dataframe\">\n",
       "  <thead>\n",
       "    <tr style=\"text-align: right;\">\n",
       "      <th></th>\n",
       "      <th></th>\n",
       "      <th>class_name</th>\n",
       "    </tr>\n",
       "    <tr>\n",
       "      <th>division_name</th>\n",
       "      <th>department_name</th>\n",
       "      <th></th>\n",
       "    </tr>\n",
       "  </thead>\n",
       "  <tbody>\n",
       "    <tr>\n",
       "      <th rowspan=\"5\" valign=\"top\">General</th>\n",
       "      <th>Bottoms</th>\n",
       "      <td>['Pants', 'Skirts', 'Jeans', 'Shorts', 'Casual...</td>\n",
       "    </tr>\n",
       "    <tr>\n",
       "      <th>Dresses</th>\n",
       "      <td>['Dresses']\n",
       "Categories (20, object): ['Blouses...</td>\n",
       "    </tr>\n",
       "    <tr>\n",
       "      <th>Jackets</th>\n",
       "      <td>['Outerwear', 'Jackets']\n",
       "Categories (20, objec...</td>\n",
       "    </tr>\n",
       "    <tr>\n",
       "      <th>Tops</th>\n",
       "      <td>['Blouses', 'Sweaters', 'Knits', 'Fine gauge']...</td>\n",
       "    </tr>\n",
       "    <tr>\n",
       "      <th>Trend</th>\n",
       "      <td>['Trend']\n",
       "Categories (20, object): ['Blouses',...</td>\n",
       "    </tr>\n",
       "    <tr>\n",
       "      <th rowspan=\"6\" valign=\"top\">General Petite</th>\n",
       "      <th>Bottoms</th>\n",
       "      <td>['Pants', 'Skirts', 'Jeans']\n",
       "Categories (20, o...</td>\n",
       "    </tr>\n",
       "    <tr>\n",
       "      <th>Dresses</th>\n",
       "      <td>['Dresses']\n",
       "Categories (20, object): ['Blouses...</td>\n",
       "    </tr>\n",
       "    <tr>\n",
       "      <th>Intimates</th>\n",
       "      <td>['Lounge']\n",
       "Categories (20, object): ['Blouses'...</td>\n",
       "    </tr>\n",
       "    <tr>\n",
       "      <th>Jackets</th>\n",
       "      <td>['Jackets', 'Outerwear']\n",
       "Categories (20, objec...</td>\n",
       "    </tr>\n",
       "    <tr>\n",
       "      <th>Tops</th>\n",
       "      <td>['Knits', 'Blouses', 'Fine gauge', 'Sweaters']...</td>\n",
       "    </tr>\n",
       "    <tr>\n",
       "      <th>Trend</th>\n",
       "      <td>['Trend']\n",
       "Categories (20, object): ['Blouses',...</td>\n",
       "    </tr>\n",
       "    <tr>\n",
       "      <th>Intimates</th>\n",
       "      <th>Intimates</th>\n",
       "      <td>['Intimates', 'Lounge', 'Sleep', 'Swim', 'Legw...</td>\n",
       "    </tr>\n",
       "  </tbody>\n",
       "</table>\n",
       "</div>"
      ],
      "text/plain": [
       "                                                                       class_name\n",
       "division_name  department_name                                                   \n",
       "General        Bottoms          ['Pants', 'Skirts', 'Jeans', 'Shorts', 'Casual...\n",
       "               Dresses          ['Dresses']\n",
       "Categories (20, object): ['Blouses...\n",
       "               Jackets          ['Outerwear', 'Jackets']\n",
       "Categories (20, objec...\n",
       "               Tops             ['Blouses', 'Sweaters', 'Knits', 'Fine gauge']...\n",
       "               Trend            ['Trend']\n",
       "Categories (20, object): ['Blouses',...\n",
       "General Petite Bottoms          ['Pants', 'Skirts', 'Jeans']\n",
       "Categories (20, o...\n",
       "               Dresses          ['Dresses']\n",
       "Categories (20, object): ['Blouses...\n",
       "               Intimates        ['Lounge']\n",
       "Categories (20, object): ['Blouses'...\n",
       "               Jackets          ['Jackets', 'Outerwear']\n",
       "Categories (20, objec...\n",
       "               Tops             ['Knits', 'Blouses', 'Fine gauge', 'Sweaters']...\n",
       "               Trend            ['Trend']\n",
       "Categories (20, object): ['Blouses',...\n",
       "Intimates      Intimates        ['Intimates', 'Lounge', 'Sleep', 'Swim', 'Legw..."
      ]
     },
     "metadata": {},
     "output_type": "display_data"
    }
   ],
   "source": [
    "pivot_table = pd.pivot_table(df, values='class_name', index=['division_name', 'department_name'], #lists unique class names for each department\n",
    "                             aggfunc=lambda x: x.unique())\n",
    "\n",
    "display(pivot_table)"
   ]
  },
  {
   "cell_type": "markdown",
   "metadata": {},
   "source": [
    "The dataset is structured into three primary divisions: General, General Petite, and Intimates. Each of these divisions encompasses various departments, which are further categorized into classes.¶\n",
    "General Division: This division includes a range of departments such as Bottoms, Dresses, Jackets, Tops, and Trend.\n",
    "1. The Bottoms department features classes like Pants, Skirts, Jeans, Shorts, and Casual Bottoms.\n",
    "2. The Dresses department is singularly classified as Dresses.\n",
    "3. In the Jackets department, you find classes like Outerwear and Jackets.\n",
    "4. The Tops and Trend departments have their respective unique classes.\n",
    "\n",
    "General Petite Division: This division mirrors the General division with departments like Bottoms, Dresses, Jackets, Tops, and Trend. Additionally, it includes the Intimates department. Similar to the General division, the Bottoms, Dresses, Jackets, Tops, and Trend departments in General Petite have corresponding classes. The Intimates department under General Petite features specific classes pertinent to this category.¶\n",
    "Intimates Division: The Intimates division is more specialized and contains a single department, Intimates, which encompasses various classes tailored to intimate apparel.\n",
    "To make this analysis more efficient, during the EDA phase we will explore the relationships between variables, and we will exclude department_name from the analysis, using only division_name and class_name as Product Type."
   ]
  },
  {
   "cell_type": "markdown",
   "metadata": {},
   "source": [
    "#### 4.2 Quantitative Analysis"
   ]
  },
  {
   "cell_type": "markdown",
   "metadata": {},
   "source": [
    "##### 4.2.1 Reviews distributions per Division and Ratings"
   ]
  },
  {
   "cell_type": "markdown",
   "metadata": {},
   "source": [
    "In the following analysis I aim to get a deeper understanding on the Customers' reviews for the Divisions: General, General Petite and Intimates. This offers some insight into the clothing sizes of the customers leaving reviews. Also, the nature of Customers' satisfaction with their purchases.\n",
    "This block of code allows plotting 2 graphs on the same line. Enumerating the loop enables the loop iteration to coincide with the matplotlib subplot axes"
   ]
  },
  {
   "cell_type": "code",
   "execution_count": 24,
   "metadata": {},
   "outputs": [
    {
     "data": {
      "image/png": "[encoded data removed]",
      "text/plain": [
       "<Figure size 1400x400 with 2 Axes>"
      ]
     },
     "metadata": {},
     "output_type": "display_data"
    }
   ],
   "source": [
    "row_plots = [\"division_name\", \"rating\"]\n",
    "\n",
    "f, axes = plt.subplots(1, len(row_plots), figsize=(14, 4), sharex=False) # Create a figure and a set of subplots\n",
    "\n",
    "# First plot: Total amount of Reviews per Division\n",
    "division_counts = df['division_name'].value_counts().sort_index()\n",
    "sns.barplot(x=division_counts.index, y=division_counts.values, ax=axes[0])\n",
    "\n",
    "for i, count in enumerate(division_counts.values):\n",
    "    axes[0].text(i, count, str(count), ha='center', va='bottom')\n",
    "\n",
    "axes[0].set_xlabel('Division')\n",
    "axes[0].set_ylabel('Total amount of Reviews')\n",
    "axes[0].set_title('Total amount of Reviews per Division')\n",
    "axes[0].grid(True, color='lightgrey', linestyle='--', linewidth=0.5, which='both', zorder=0)\n",
    "\n",
    "# Second plot: Total amount of Reviews per Rating\n",
    "rating_counts = df['rating'].value_counts().sort_index()\n",
    "sns.barplot(x=rating_counts.index, y=rating_counts.values, ax=axes[1])\n",
    "\n",
    "for i, count in enumerate(rating_counts.values):\n",
    "    axes[1].text(i, count, str(count), ha='center', va='bottom')\n",
    "\n",
    "axes[1].set_xlabel('Rating')\n",
    "axes[1].set_ylabel('Total amount of Reviews')\n",
    "axes[1].set_title('Total amount of Reviews per Rating')\n",
    "axes[1].grid(True, color='lightgrey', linestyle='--', linewidth=0.5, which='both', zorder=0)\n",
    "\n",
    "plt.tight_layout()\n",
    "plt.show()"
   ]
  },
  {
   "cell_type": "markdown",
   "metadata": {},
   "source": [
    "In terms of Divisions, customers predominantly buy from the General division, General Petite in second place and Intimates in third place.\n",
    "The displayed plot reveals a concentration of customer reviews primarily in the 5 rating category, indicating that the dataset is predominantly positive in nature."
   ]
  },
  {
   "cell_type": "code",
   "execution_count": 25,
   "metadata": {},
   "outputs": [
    {
     "name": "stdout",
     "output_type": "stream",
     "text": [
      "5 stars ratings represent 55.36% of the dataframe\n"
     ]
    }
   ],
   "source": [
    "percentage_5_stars = (df['rating'] == 5).sum() * 100 / len(df)\n",
    "print(f'5 stars ratings represent {percentage_5_stars:.2f}% of the dataframe')"
   ]
  },
  {
   "cell_type": "markdown",
   "metadata": {},
   "source": [
    "##### 4.2.2 Ratings distribution per class_name or Type of product\n"
   ]
  },
  {
   "cell_type": "code",
   "execution_count": 26,
   "metadata": {},
   "outputs": [
    {
     "data": {
      "image/png": "[encoded data removed]",
      "text/plain": [
       "<Figure size 1500x800 with 1 Axes>"
      ]
     },
     "metadata": {},
     "output_type": "display_data"
    }
   ],
   "source": [
    "medians = df.groupby('class_name')['rating'].count().sort_values(ascending=False) #median values per group\n",
    "\n",
    "sorted_names = medians.index.tolist() #order by medians\n",
    "\n",
    "plt.figure(figsize=(15, 8))\n",
    "ax = sns.boxplot(x=df['rating'], y=df['class_name'], order=sorted_names)\n",
    "\n",
    "plt.xlabel('Rating')\n",
    "plt.ylabel('Class Name')\n",
    "\n",
    "x_max = ax.get_xlim()[1]\n",
    "\n",
    "for i, class_name in enumerate(sorted_names):\n",
    "    count = medians[class_name]\n",
    "    ax.text(x_max -0.25, i, f'Total: {count}', va='center', color='black', fontweight='bold', ha='right') #total count of reviews\n",
    "\n",
    "plt.grid(True, color='lightgrey', linestyle='--', linewidth=0.5, which='both', zorder=0) \n",
    "plt.title('Type of product distribution per Rating (Ordered by amount of reviews)')\n",
    "plt.show()"
   ]
  },
  {
   "cell_type": "markdown",
   "metadata": {},
   "source": [
    "Despite the division and departmental categories, this plot aims to analyze a general view of clothes per class. Displaying the distribution of the ratings, this boxplot makes it easy to detect outliers and which classes have the lower general rating. Totals are showing the total number of reviews per class.\n",
    "The most common rating in this plot is the highest possible rating (5) with a distribution of the ratings left-skewed,indicating a an overall satisfaction with most of the products and with a couple of outliers located in ratings 1 and 2.\n",
    "Trend as a class seems to have the lower minimum values. To get further information a quick describe table will be displayed\n",
    "\n",
    "Another relevant characteristic is that Casual bottoms and Chemises have only one review per Class"
   ]
  },
  {
   "cell_type": "code",
   "execution_count": 27,
   "metadata": {},
   "outputs": [
    {
     "data": {
      "text/html": [
       "<div>\n",
       "<style scoped>\n",
       "    .dataframe tbody tr th:only-of-type {\n",
       "        vertical-align: middle;\n",
       "    }\n",
       "\n",
       "    .dataframe tbody tr th {\n",
       "        vertical-align: top;\n",
       "    }\n",
       "\n",
       "    .dataframe thead th {\n",
       "        text-align: right;\n",
       "    }\n",
       "</style>\n",
       "<table border=\"1\" class=\"dataframe\">\n",
       "  <thead>\n",
       "    <tr style=\"text-align: right;\">\n",
       "      <th></th>\n",
       "      <th>clothing_id</th>\n",
       "      <th>age</th>\n",
       "      <th>title</th>\n",
       "      <th>review_text</th>\n",
       "      <th>rating</th>\n",
       "      <th>recommended_ind</th>\n",
       "      <th>positive_feedback_count</th>\n",
       "      <th>division_name</th>\n",
       "      <th>department_name</th>\n",
       "      <th>class_name</th>\n",
       "    </tr>\n",
       "  </thead>\n",
       "  <tbody>\n",
       "    <tr>\n",
       "      <th>11952</th>\n",
       "      <td>45</td>\n",
       "      <td>26</td>\n",
       "      <td>Cute pants, but short.</td>\n",
       "      <td>These pants have a really cute design. however...</td>\n",
       "      <td>4</td>\n",
       "      <td>1</td>\n",
       "      <td>0</td>\n",
       "      <td>General</td>\n",
       "      <td>Bottoms</td>\n",
       "      <td>Casual bottoms</td>\n",
       "    </tr>\n",
       "    <tr>\n",
       "      <th>12946</th>\n",
       "      <td>10</td>\n",
       "      <td>38</td>\n",
       "      <td>Comfy and cute</td>\n",
       "      <td>This dress is comfortable and a great piece to...</td>\n",
       "      <td>4</td>\n",
       "      <td>1</td>\n",
       "      <td>0</td>\n",
       "      <td>Intimates</td>\n",
       "      <td>Intimates</td>\n",
       "      <td>Chemises</td>\n",
       "    </tr>\n",
       "  </tbody>\n",
       "</table>\n",
       "</div>"
      ],
      "text/plain": [
       "       clothing_id  age                   title   \n",
       "11952           45   26  Cute pants, but short.  \\\n",
       "12946           10   38          Comfy and cute   \n",
       "\n",
       "                                             review_text  rating   \n",
       "11952  These pants have a really cute design. however...       4  \\\n",
       "12946  This dress is comfortable and a great piece to...       4   \n",
       "\n",
       "       recommended_ind  positive_feedback_count division_name department_name   \n",
       "11952                1                        0       General         Bottoms  \\\n",
       "12946                1                        0     Intimates       Intimates   \n",
       "\n",
       "           class_name  \n",
       "11952  Casual bottoms  \n",
       "12946        Chemises  "
      ]
     },
     "metadata": {},
     "output_type": "display_data"
    }
   ],
   "source": [
    "one_review = df[(df['class_name'] == 'Casual bottoms') | (df['class_name'] == 'Chemises')]\n",
    "display(one_review)"
   ]
  },
  {
   "cell_type": "markdown",
   "metadata": {},
   "source": [
    "About Casual bottoms, in this case there is only one pair of pants which should be included in 'Pants' Class.¶\n",
    "For Chemises, it appears to be a misclassification of the source. The review describes shoes that go well with the product, in this case a dress, implying that it is a dress for going out and not a product that would be part of the Intimates category"
   ]
  },
  {
   "cell_type": "code",
   "execution_count": 28,
   "metadata": {},
   "outputs": [],
   "source": [
    "casual_b = df[(df['class_name'] == 'Casual bottoms')]\n",
    "chemises = df[(df['class_name'] == 'Chemises')]\n",
    "\n",
    "indices_to_change = list(casual_b.index) + list(chemises.index) #indices combined in a singles list\n",
    "\n",
    "new_class_names = ['Pants', 'Dresses']\n",
    "\n",
    "for i in range(len(indices_to_change)):\n",
    "    index = indices_to_change[i]\n",
    "    new_class_name = new_class_names[0] if i < len(casual_b) else new_class_names[1]\n",
    "    df.at[index, 'class_name'] = new_class_name"
   ]
  },
  {
   "cell_type": "markdown",
   "metadata": {},
   "source": [
    "Successfully recategorized those 2 cases."
   ]
  },
  {
   "cell_type": "code",
   "execution_count": 29,
   "metadata": {},
   "outputs": [
    {
     "data": {
      "text/html": [
       "<div>\n",
       "<style scoped>\n",
       "    .dataframe tbody tr th:only-of-type {\n",
       "        vertical-align: middle;\n",
       "    }\n",
       "\n",
       "    .dataframe tbody tr th {\n",
       "        vertical-align: top;\n",
       "    }\n",
       "\n",
       "    .dataframe thead th {\n",
       "        text-align: right;\n",
       "    }\n",
       "</style>\n",
       "<table border=\"1\" class=\"dataframe\">\n",
       "  <thead>\n",
       "    <tr style=\"text-align: right;\">\n",
       "      <th></th>\n",
       "      <th>count</th>\n",
       "      <th>mean</th>\n",
       "      <th>std</th>\n",
       "      <th>min</th>\n",
       "      <th>25%</th>\n",
       "      <th>50%</th>\n",
       "      <th>75%</th>\n",
       "      <th>max</th>\n",
       "    </tr>\n",
       "    <tr>\n",
       "      <th>class_name</th>\n",
       "      <th></th>\n",
       "      <th></th>\n",
       "      <th></th>\n",
       "      <th></th>\n",
       "      <th></th>\n",
       "      <th></th>\n",
       "      <th></th>\n",
       "      <th></th>\n",
       "    </tr>\n",
       "  </thead>\n",
       "  <tbody>\n",
       "    <tr>\n",
       "      <th>Trend</th>\n",
       "      <td>118.0</td>\n",
       "      <td>3.838983</td>\n",
       "      <td>1.313769</td>\n",
       "      <td>1.0</td>\n",
       "      <td>3.0</td>\n",
       "      <td>4.0</td>\n",
       "      <td>5.0</td>\n",
       "      <td>5.0</td>\n",
       "    </tr>\n",
       "    <tr>\n",
       "      <th>Dresses</th>\n",
       "      <td>6146.0</td>\n",
       "      <td>4.138789</td>\n",
       "      <td>1.127554</td>\n",
       "      <td>1.0</td>\n",
       "      <td>4.0</td>\n",
       "      <td>5.0</td>\n",
       "      <td>5.0</td>\n",
       "      <td>5.0</td>\n",
       "    </tr>\n",
       "    <tr>\n",
       "      <th>Blouses</th>\n",
       "      <td>2983.0</td>\n",
       "      <td>4.142809</td>\n",
       "      <td>1.140846</td>\n",
       "      <td>1.0</td>\n",
       "      <td>4.0</td>\n",
       "      <td>5.0</td>\n",
       "      <td>5.0</td>\n",
       "      <td>5.0</td>\n",
       "    </tr>\n",
       "    <tr>\n",
       "      <th>Knits</th>\n",
       "      <td>4626.0</td>\n",
       "      <td>4.145698</td>\n",
       "      <td>1.121563</td>\n",
       "      <td>1.0</td>\n",
       "      <td>4.0</td>\n",
       "      <td>5.0</td>\n",
       "      <td>5.0</td>\n",
       "      <td>5.0</td>\n",
       "    </tr>\n",
       "    <tr>\n",
       "      <th>Sweaters</th>\n",
       "      <td>1380.0</td>\n",
       "      <td>4.168841</td>\n",
       "      <td>1.134104</td>\n",
       "      <td>1.0</td>\n",
       "      <td>4.0</td>\n",
       "      <td>5.0</td>\n",
       "      <td>5.0</td>\n",
       "      <td>5.0</td>\n",
       "    </tr>\n",
       "    <tr>\n",
       "      <th>Swim</th>\n",
       "      <td>332.0</td>\n",
       "      <td>4.171687</td>\n",
       "      <td>1.125392</td>\n",
       "      <td>1.0</td>\n",
       "      <td>4.0</td>\n",
       "      <td>5.0</td>\n",
       "      <td>5.0</td>\n",
       "      <td>5.0</td>\n",
       "    </tr>\n",
       "    <tr>\n",
       "      <th>Outerwear</th>\n",
       "      <td>319.0</td>\n",
       "      <td>4.181818</td>\n",
       "      <td>1.129165</td>\n",
       "      <td>1.0</td>\n",
       "      <td>4.0</td>\n",
       "      <td>5.0</td>\n",
       "      <td>5.0</td>\n",
       "      <td>5.0</td>\n",
       "    </tr>\n",
       "    <tr>\n",
       "      <th>Skirts</th>\n",
       "      <td>903.0</td>\n",
       "      <td>4.229236</td>\n",
       "      <td>1.095014</td>\n",
       "      <td>1.0</td>\n",
       "      <td>4.0</td>\n",
       "      <td>5.0</td>\n",
       "      <td>5.0</td>\n",
       "      <td>5.0</td>\n",
       "    </tr>\n",
       "    <tr>\n",
       "      <th>Fine gauge</th>\n",
       "      <td>1059.0</td>\n",
       "      <td>4.237960</td>\n",
       "      <td>1.079117</td>\n",
       "      <td>1.0</td>\n",
       "      <td>4.0</td>\n",
       "      <td>5.0</td>\n",
       "      <td>5.0</td>\n",
       "      <td>5.0</td>\n",
       "    </tr>\n",
       "    <tr>\n",
       "      <th>Legwear</th>\n",
       "      <td>158.0</td>\n",
       "      <td>4.246835</td>\n",
       "      <td>1.176667</td>\n",
       "      <td>1.0</td>\n",
       "      <td>4.0</td>\n",
       "      <td>5.0</td>\n",
       "      <td>5.0</td>\n",
       "      <td>5.0</td>\n",
       "    </tr>\n",
       "    <tr>\n",
       "      <th>Shorts</th>\n",
       "      <td>304.0</td>\n",
       "      <td>4.253289</td>\n",
       "      <td>1.058514</td>\n",
       "      <td>1.0</td>\n",
       "      <td>4.0</td>\n",
       "      <td>5.0</td>\n",
       "      <td>5.0</td>\n",
       "      <td>5.0</td>\n",
       "    </tr>\n",
       "    <tr>\n",
       "      <th>Pants</th>\n",
       "      <td>1351.0</td>\n",
       "      <td>4.261288</td>\n",
       "      <td>1.070398</td>\n",
       "      <td>1.0</td>\n",
       "      <td>4.0</td>\n",
       "      <td>5.0</td>\n",
       "      <td>5.0</td>\n",
       "      <td>5.0</td>\n",
       "    </tr>\n",
       "    <tr>\n",
       "      <th>Intimates</th>\n",
       "      <td>147.0</td>\n",
       "      <td>4.278912</td>\n",
       "      <td>1.115165</td>\n",
       "      <td>1.0</td>\n",
       "      <td>4.0</td>\n",
       "      <td>5.0</td>\n",
       "      <td>5.0</td>\n",
       "      <td>5.0</td>\n",
       "    </tr>\n",
       "    <tr>\n",
       "      <th>Jackets</th>\n",
       "      <td>683.0</td>\n",
       "      <td>4.288433</td>\n",
       "      <td>1.147596</td>\n",
       "      <td>1.0</td>\n",
       "      <td>4.0</td>\n",
       "      <td>5.0</td>\n",
       "      <td>5.0</td>\n",
       "      <td>5.0</td>\n",
       "    </tr>\n",
       "    <tr>\n",
       "      <th>Sleep</th>\n",
       "      <td>214.0</td>\n",
       "      <td>4.294393</td>\n",
       "      <td>1.122650</td>\n",
       "      <td>1.0</td>\n",
       "      <td>4.0</td>\n",
       "      <td>5.0</td>\n",
       "      <td>5.0</td>\n",
       "      <td>5.0</td>\n",
       "    </tr>\n",
       "    <tr>\n",
       "      <th>Lounge</th>\n",
       "      <td>669.0</td>\n",
       "      <td>4.301943</td>\n",
       "      <td>1.027327</td>\n",
       "      <td>1.0</td>\n",
       "      <td>4.0</td>\n",
       "      <td>5.0</td>\n",
       "      <td>5.0</td>\n",
       "      <td>5.0</td>\n",
       "    </tr>\n",
       "    <tr>\n",
       "      <th>Jeans</th>\n",
       "      <td>1103.0</td>\n",
       "      <td>4.347235</td>\n",
       "      <td>1.025982</td>\n",
       "      <td>1.0</td>\n",
       "      <td>4.0</td>\n",
       "      <td>5.0</td>\n",
       "      <td>5.0</td>\n",
       "      <td>5.0</td>\n",
       "    </tr>\n",
       "    <tr>\n",
       "      <th>Layering</th>\n",
       "      <td>132.0</td>\n",
       "      <td>4.348485</td>\n",
       "      <td>0.980612</td>\n",
       "      <td>1.0</td>\n",
       "      <td>4.0</td>\n",
       "      <td>5.0</td>\n",
       "      <td>5.0</td>\n",
       "      <td>5.0</td>\n",
       "    </tr>\n",
       "  </tbody>\n",
       "</table>\n",
       "</div>"
      ],
      "text/plain": [
       "             count      mean       std  min  25%  50%  75%  max\n",
       "class_name                                                     \n",
       "Trend        118.0  3.838983  1.313769  1.0  3.0  4.0  5.0  5.0\n",
       "Dresses     6146.0  4.138789  1.127554  1.0  4.0  5.0  5.0  5.0\n",
       "Blouses     2983.0  4.142809  1.140846  1.0  4.0  5.0  5.0  5.0\n",
       "Knits       4626.0  4.145698  1.121563  1.0  4.0  5.0  5.0  5.0\n",
       "Sweaters    1380.0  4.168841  1.134104  1.0  4.0  5.0  5.0  5.0\n",
       "Swim         332.0  4.171687  1.125392  1.0  4.0  5.0  5.0  5.0\n",
       "Outerwear    319.0  4.181818  1.129165  1.0  4.0  5.0  5.0  5.0\n",
       "Skirts       903.0  4.229236  1.095014  1.0  4.0  5.0  5.0  5.0\n",
       "Fine gauge  1059.0  4.237960  1.079117  1.0  4.0  5.0  5.0  5.0\n",
       "Legwear      158.0  4.246835  1.176667  1.0  4.0  5.0  5.0  5.0\n",
       "Shorts       304.0  4.253289  1.058514  1.0  4.0  5.0  5.0  5.0\n",
       "Pants       1351.0  4.261288  1.070398  1.0  4.0  5.0  5.0  5.0\n",
       "Intimates    147.0  4.278912  1.115165  1.0  4.0  5.0  5.0  5.0\n",
       "Jackets      683.0  4.288433  1.147596  1.0  4.0  5.0  5.0  5.0\n",
       "Sleep        214.0  4.294393  1.122650  1.0  4.0  5.0  5.0  5.0\n",
       "Lounge       669.0  4.301943  1.027327  1.0  4.0  5.0  5.0  5.0\n",
       "Jeans       1103.0  4.347235  1.025982  1.0  4.0  5.0  5.0  5.0\n",
       "Layering     132.0  4.348485  0.980612  1.0  4.0  5.0  5.0  5.0"
      ]
     },
     "metadata": {},
     "output_type": "display_data"
    }
   ],
   "source": [
    "grouped_data = df.groupby('class_name')['rating'].describe()\n",
    "\n",
    "filtered_data = grouped_data[grouped_data['count'] > 0]\n",
    "\n",
    "sorted_data = filtered_data.sort_values(by=('mean'))\n",
    "\n",
    "display(sorted_data) "
   ]
  },
  {
   "cell_type": "markdown",
   "metadata": {},
   "source": [
    "This table shows the class statistics sorted by average. Leading the way is Trend with a total of 118 opinions and an average of 3.83. This class is well below the rest, with a mean well below the rest of the classes. The rest of the classes have a spectrum of averages from 4.13 to 4.34. The minimum value of all classes is 1.¶"
   ]
  },
  {
   "cell_type": "code",
   "execution_count": 30,
   "metadata": {},
   "outputs": [],
   "source": [
    "df_trend_class = df[df['class_name'] == 'Trend']\n"
   ]
  },
  {
   "cell_type": "code",
   "execution_count": 31,
   "metadata": {},
   "outputs": [
    {
     "name": "stdout",
     "output_type": "stream",
     "text": [
      "Trend class - Unique Clothing IDs: 38\n",
      "Trend class - Total Reviews: 118\n"
     ]
    }
   ],
   "source": [
    "unique_clothing_ids = df_trend_class['clothing_id'].nunique()\n",
    "\n",
    "total_reviews = df_trend_class['rating'].count()\n",
    "\n",
    "print(f\"Trend class - Unique Clothing IDs: {unique_clothing_ids}\")\n",
    "print(f\"Trend class - Total Reviews: {total_reviews}\")"
   ]
  },
  {
   "cell_type": "markdown",
   "metadata": {},
   "source": [
    "As we saw previously, the standard distribution of the dataframe is to have 50% of reviews at a 5.0 rating and a mean higher than 4.13. To find where the lowest ratings for the Trend class are located, I'm grouping the 118 reviews by the 42 unique products (by clothing_id) in this class and plotting a boxplot filtered by a mean of 4.13 to expose a non-standard distribution."
   ]
  },
  {
   "cell_type": "code",
   "execution_count": 32,
   "metadata": {},
   "outputs": [
    {
     "name": "stdout",
     "output_type": "stream",
     "text": [
      "Trend class - Products with a mean < 4.13 - Total Unique Clothing IDs: 20\n",
      "Trend class - Products with a mean < 4.13 - Total Reviews: 68.0\n"
     ]
    }
   ],
   "source": [
    "grouped_data = df_trend_class.groupby('clothing_id')['rating'].describe()\n",
    "\n",
    "filtered_data = grouped_data[grouped_data['mean'] < 4.13]\n",
    "\n",
    "df_filtered_trends = filtered_data.sort_values(by=('mean'))\n",
    "\n",
    "total_unique_clothing_ids = df_filtered_trends.shape[0]\n",
    "total_reviews = df_filtered_trends['count'].sum()\n",
    "\n",
    "print(f\"Trend class - Products with a mean < 4.13 - Total Unique Clothing IDs: {total_unique_clothing_ids}\")\n",
    "print(f\"Trend class - Products with a mean < 4.13 - Total Reviews: {total_reviews}\")"
   ]
  },
  {
   "cell_type": "markdown",
   "metadata": {},
   "source": [
    "With a total of 20 products with a mean under 4.13 representing 57% of the total Trend reviews explaining the reasons for this class to have a lower mean than the rest. The reasons of it will be explore in the Sentiment analysis section."
   ]
  },
  {
   "cell_type": "markdown",
   "metadata": {},
   "source": [
    "##### 4.2.3 Review distribution by Age"
   ]
  },
  {
   "cell_type": "code",
   "execution_count": 33,
   "metadata": {},
   "outputs": [
    {
     "data": {
      "image/png": "[encoded data removed]",
      "text/plain": [
       "<Figure size 1200x600 with 1 Axes>"
      ]
     },
     "metadata": {},
     "output_type": "display_data"
    }
   ],
   "source": [
    "plt.figure(figsize=(12, 6))\n",
    "sns.boxplot(data=df, x='division_name', y='age')\n",
    "plt.title('Box plot of Ratings by Age')\n",
    "plt.xlabel('Division')\n",
    "plt.ylabel('Age')\n",
    "plt.grid(True, color='lightgrey', linestyle='--', linewidth=0.5, which='both', zorder=0) \n",
    "plt.show()"
   ]
  },
  {
   "cell_type": "markdown",
   "metadata": {},
   "source": [
    "General has a median in 41 years, with an oldest outlier of 100 years old. Meanwhile, General Petite has the same mean but the oldest outlier is 91 years old. Also, the distribution of Age per division shows us that the Intimates division has a generally young audience age, with a mean of 39 years old and the Q3 (75%) is younger than 50 years. This is the youngest of all 3 divisions."
   ]
  },
  {
   "cell_type": "markdown",
   "metadata": {},
   "source": [
    "##### 4.2.4 Case Study: 100 products with the lowest average ratings\n",
    "I will now undertake a case study to identify the 100 products with the lowest average ratings. This will be achieved by grouping the products by their clothing_id and calculating the mean rating for each. This approach will allow us to pinpoint the products with the lowest average ratings.¶\n",
    "The first thing to do is to group the ratings per product in order to get the mean of each of them, as well as counting the amount of ratings and counting the ones with rating = 1. In these first lines of code I won’t filter the results, because it could be useful to retain all the available data for now, in case we want to do any other similar inquiries later.¶"
   ]
  },
  {
   "cell_type": "code",
   "execution_count": 34,
   "metadata": {},
   "outputs": [],
   "source": [
    "ratings_per_product = df.groupby('clothing_id').agg(\n",
    "    avg_rating=('rating', 'mean'),\n",
    "    count_ratings=('rating', 'size'),\n",
    "    count_ones=('rating', lambda x: (x == 1).sum())  # Count reviews with rating of 1\n",
    ")"
   ]
  },
  {
   "cell_type": "markdown",
   "metadata": {},
   "source": [
    "With the total data grouped by the amount of ratings, the following code filters by products with more than one rating = 1 and filters the 100 lowest average ratings.\n",
    "Using df.nsmallest(), a function that returns the first N occurrences ordered by a particular column in ascending order."
   ]
  },
  {
   "cell_type": "code",
   "execution_count": 35,
   "metadata": {},
   "outputs": [],
   "source": [
    "filter_higher_one = ratings_per_product[ratings_per_product['count_ones'] > 1]\n",
    "N = 100\n",
    "filter_lowest_avg = filter_higher_one.nsmallest(N, 'avg_rating')\n",
    "\n",
    "#display(filter_lowest_avg)"
   ]
  },
  {
   "cell_type": "code",
   "execution_count": 36,
   "metadata": {},
   "outputs": [],
   "source": [
    "pd.set_option('display.max_colwidth', None)"
   ]
  },
  {
   "cell_type": "code",
   "execution_count": 37,
   "metadata": {},
   "outputs": [
    {
     "data": {
      "text/html": [
       "<div>\n",
       "<style scoped>\n",
       "    .dataframe tbody tr th:only-of-type {\n",
       "        vertical-align: middle;\n",
       "    }\n",
       "\n",
       "    .dataframe tbody tr th {\n",
       "        vertical-align: top;\n",
       "    }\n",
       "\n",
       "    .dataframe thead th {\n",
       "        text-align: right;\n",
       "    }\n",
       "</style>\n",
       "<table border=\"1\" class=\"dataframe\">\n",
       "  <thead>\n",
       "    <tr style=\"text-align: right;\">\n",
       "      <th></th>\n",
       "      <th>avg_rating</th>\n",
       "      <th>count_ratings</th>\n",
       "      <th>count_ones</th>\n",
       "    </tr>\n",
       "    <tr>\n",
       "      <th>clothing_id</th>\n",
       "      <th></th>\n",
       "      <th></th>\n",
       "      <th></th>\n",
       "    </tr>\n",
       "  </thead>\n",
       "  <tbody>\n",
       "    <tr>\n",
       "      <th>973</th>\n",
       "      <td>1.000000</td>\n",
       "      <td>2</td>\n",
       "      <td>2</td>\n",
       "    </tr>\n",
       "    <tr>\n",
       "      <th>569</th>\n",
       "      <td>1.800000</td>\n",
       "      <td>5</td>\n",
       "      <td>2</td>\n",
       "    </tr>\n",
       "    <tr>\n",
       "      <th>588</th>\n",
       "      <td>2.000000</td>\n",
       "      <td>4</td>\n",
       "      <td>2</td>\n",
       "    </tr>\n",
       "    <tr>\n",
       "      <th>229</th>\n",
       "      <td>2.181818</td>\n",
       "      <td>11</td>\n",
       "      <td>4</td>\n",
       "    </tr>\n",
       "    <tr>\n",
       "      <th>1039</th>\n",
       "      <td>2.888889</td>\n",
       "      <td>9</td>\n",
       "      <td>2</td>\n",
       "    </tr>\n",
       "    <tr>\n",
       "      <th>...</th>\n",
       "      <td>...</td>\n",
       "      <td>...</td>\n",
       "      <td>...</td>\n",
       "    </tr>\n",
       "    <tr>\n",
       "      <th>1059</th>\n",
       "      <td>4.285714</td>\n",
       "      <td>287</td>\n",
       "      <td>8</td>\n",
       "    </tr>\n",
       "    <tr>\n",
       "      <th>1009</th>\n",
       "      <td>4.289157</td>\n",
       "      <td>83</td>\n",
       "      <td>3</td>\n",
       "    </tr>\n",
       "    <tr>\n",
       "      <th>850</th>\n",
       "      <td>4.290123</td>\n",
       "      <td>324</td>\n",
       "      <td>8</td>\n",
       "    </tr>\n",
       "    <tr>\n",
       "      <th>933</th>\n",
       "      <td>4.290323</td>\n",
       "      <td>62</td>\n",
       "      <td>2</td>\n",
       "    </tr>\n",
       "    <tr>\n",
       "      <th>1056</th>\n",
       "      <td>4.296117</td>\n",
       "      <td>206</td>\n",
       "      <td>11</td>\n",
       "    </tr>\n",
       "  </tbody>\n",
       "</table>\n",
       "<p>100 rows × 3 columns</p>\n",
       "</div>"
      ],
      "text/plain": [
       "             avg_rating  count_ratings  count_ones\n",
       "clothing_id                                       \n",
       "973            1.000000              2           2\n",
       "569            1.800000              5           2\n",
       "588            2.000000              4           2\n",
       "229            2.181818             11           4\n",
       "1039           2.888889              9           2\n",
       "...                 ...            ...         ...\n",
       "1059           4.285714            287           8\n",
       "1009           4.289157             83           3\n",
       "850            4.290123            324           8\n",
       "933            4.290323             62           2\n",
       "1056           4.296117            206          11\n",
       "\n",
       "[100 rows x 3 columns]"
      ]
     },
     "metadata": {},
     "output_type": "display_data"
    }
   ],
   "source": [
    "display(filter_lowest_avg)"
   ]
  },
  {
   "cell_type": "markdown",
   "metadata": {},
   "source": [
    "The previous table shows grouped per product, an average rating, the total reviews per product and a count of total '1-star' reviews', this results will be explore deeper on the Business Insights section."
   ]
  },
  {
   "cell_type": "markdown",
   "metadata": {},
   "source": [
    "#### 5 Sentiment analysis "
   ]
  },
  {
   "cell_type": "markdown",
   "metadata": {},
   "source": [
    "##### 5.1 Overview of TextBlob and VADER Tools\n",
    "As mentioned in the introduction, Textblob and Vader will be compared to enrich the analysis. First, I'm running a simple test to know how they work."
   ]
  },
  {
   "cell_type": "code",
   "execution_count": 38,
   "metadata": {},
   "outputs": [
    {
     "name": "stdout",
     "output_type": "stream",
     "text": [
      "Positive: 0.266\n",
      "Negative: 0.0\n",
      "Neutral: 0.734\n",
      "Compound: 0.4404\n"
     ]
    }
   ],
   "source": [
    "analyzer = SentimentIntensityAnalyzer() # loading Vader \n",
    "\n",
    "text = \"This is a good example of VADER sentiment analysis\"\n",
    "\n",
    "vader_sentiment_scores = analyzer.polarity_scores(text)\n",
    "\n",
    "print(\"Positive:\", vader_sentiment_scores['pos'])\n",
    "print(\"Negative:\", vader_sentiment_scores['neg'])\n",
    "print(\"Neutral:\", vader_sentiment_scores['neu'])\n",
    "print(\"Compound:\", vader_sentiment_scores['compound'])"
   ]
  },
  {
   "cell_type": "code",
   "execution_count": 39,
   "metadata": {},
   "outputs": [
    {
     "name": "stdout",
     "output_type": "stream",
     "text": [
      "TextBlob Polarity: 0.7\n",
      "TextBlob Subjectivity: 0.6000000000000001\n"
     ]
    }
   ],
   "source": [
    "text_blob = TextBlob(\"This is a good example of a TextBlob\")\n",
    "sentiment_blob = text_blob.sentiment\n",
    "\n",
    "polarity_blob = sentiment_blob.polarity\n",
    "subjectivity_blob = sentiment_blob.subjectivity\n",
    "\n",
    "print(\"TextBlob Polarity:\", polarity_blob)\n",
    "print(\"TextBlob Subjectivity:\", subjectivity_blob)"
   ]
  },
  {
   "cell_type": "markdown",
   "metadata": {},
   "source": [
    "We have two different sentiment analysis tools providing sentiment scores for two similar statements.\n",
    "\n",
    "**TextBlob**: It provides polarity and subjectivity scores. In Example 1, the polarity score is 0.7, indicating a positive sentiment, and the subjectivity score is 0.6, indicating a moderate level of subjectivity.\n",
    "\n",
    "**Vader**: It provides positive, negative, neutral, and compound scores. In Example 2, the compound score is 0.6369, which suggests a positive sentiment. The positive score (0.458) is the highest, indicating a positive sentiment.\n",
    "Both tools generally agree on the sentiment of the given statements, classifying them as positive. However, the exact numeric scores may differ because each tool employs its own sentiment analysis algorithms and scoring systems. Additionally, TextBlob provides a subjectivity score, which VADER does not include in its output."
   ]
  },
  {
   "cell_type": "markdown",
   "metadata": {},
   "source": [
    "#### 5.2 Integration of Sentiment Analysis in the Dataset\n",
    "##### 5.2.1 Adding Textblob and Vader to the dataframe\n"
   ]
  },
  {
   "cell_type": "code",
   "execution_count": 40,
   "metadata": {},
   "outputs": [],
   "source": [
    "desc_blob = [TextBlob(desc) for desc in df['review_text']] "
   ]
  },
  {
   "cell_type": "code",
   "execution_count": 41,
   "metadata": {},
   "outputs": [],
   "source": [
    "#TEXTBLOB sentiment metrics into the dataframe\n",
    "df['tb_pol'] = [b.sentiment.polarity for b in desc_blob]\n",
    "df['tb_subj'] = [b.sentiment.subjectivity for b in desc_blob]\n",
    "\n",
    "#VADER metrics into dataframe\n",
    "df['compound'] = [analyzer.polarity_scores(v)['compound'] for v in df['review_text']]\n",
    "df['neg'] = [analyzer.polarity_scores(v)['neg'] for v in df['review_text']]\n",
    "df['neu'] = [analyzer.polarity_scores(v)['neu'] for v in df['review_text']]\n",
    "df['pos'] = [analyzer.polarity_scores(v)['pos'] for v in df['review_text']]"
   ]
  },
  {
   "cell_type": "markdown",
   "metadata": {},
   "source": [
    "##### 5.2.2 Displaying a selection of columns to understand behavior"
   ]
  },
  {
   "cell_type": "code",
   "execution_count": 42,
   "metadata": {},
   "outputs": [
    {
     "data": {
      "text/html": [
       "<style type=\"text/css\">\n",
       "#T_9bca4_row0_col2, #T_9bca4_row7_col2 {\n",
       "  background-color: #b7e075;\n",
       "  color: #000000;\n",
       "}\n",
       "#T_9bca4_row0_col4, #T_9bca4_row1_col2, #T_9bca4_row1_col6, #T_9bca4_row3_col2, #T_9bca4_row4_col2, #T_9bca4_row6_col2, #T_9bca4_row8_col2, #T_9bca4_row9_col2 {\n",
       "  background-color: #006837;\n",
       "  color: #f1f1f1;\n",
       "}\n",
       "#T_9bca4_row0_col6 {\n",
       "  background-color: #138c4a;\n",
       "  color: #f1f1f1;\n",
       "}\n",
       "#T_9bca4_row1_col4 {\n",
       "  background-color: #f2faae;\n",
       "  color: #000000;\n",
       "}\n",
       "#T_9bca4_row2_col2 {\n",
       "  background-color: #fdbf6f;\n",
       "  color: #000000;\n",
       "}\n",
       "#T_9bca4_row2_col4 {\n",
       "  background-color: #da362a;\n",
       "  color: #f1f1f1;\n",
       "}\n",
       "#T_9bca4_row2_col6 {\n",
       "  background-color: #0c7f43;\n",
       "  color: #f1f1f1;\n",
       "}\n",
       "#T_9bca4_row3_col4 {\n",
       "  background-color: #30a356;\n",
       "  color: #f1f1f1;\n",
       "}\n",
       "#T_9bca4_row3_col6 {\n",
       "  background-color: #cdea83;\n",
       "  color: #000000;\n",
       "}\n",
       "#T_9bca4_row4_col4 {\n",
       "  background-color: #5db961;\n",
       "  color: #f1f1f1;\n",
       "}\n",
       "#T_9bca4_row4_col6 {\n",
       "  background-color: #0a7b41;\n",
       "  color: #f1f1f1;\n",
       "}\n",
       "#T_9bca4_row5_col2, #T_9bca4_row7_col6, #T_9bca4_row8_col4 {\n",
       "  background-color: #a50026;\n",
       "  color: #f1f1f1;\n",
       "}\n",
       "#T_9bca4_row5_col4 {\n",
       "  background-color: #fba05b;\n",
       "  color: #000000;\n",
       "}\n",
       "#T_9bca4_row5_col6 {\n",
       "  background-color: #07753e;\n",
       "  color: #f1f1f1;\n",
       "}\n",
       "#T_9bca4_row6_col4 {\n",
       "  background-color: #f57245;\n",
       "  color: #f1f1f1;\n",
       "}\n",
       "#T_9bca4_row6_col6 {\n",
       "  background-color: #96d268;\n",
       "  color: #000000;\n",
       "}\n",
       "#T_9bca4_row7_col4 {\n",
       "  background-color: #fa9857;\n",
       "  color: #000000;\n",
       "}\n",
       "#T_9bca4_row8_col6 {\n",
       "  background-color: #7fc866;\n",
       "  color: #000000;\n",
       "}\n",
       "#T_9bca4_row9_col4 {\n",
       "  background-color: #fdb768;\n",
       "  color: #000000;\n",
       "}\n",
       "#T_9bca4_row9_col6 {\n",
       "  background-color: #199750;\n",
       "  color: #f1f1f1;\n",
       "}\n",
       "</style>\n",
       "<table id=\"T_9bca4\">\n",
       "  <thead>\n",
       "    <tr>\n",
       "      <th id=\"T_9bca4_level0_col0\" class=\"col_heading level0 col0\" >clothing_id</th>\n",
       "      <th id=\"T_9bca4_level0_col1\" class=\"col_heading level0 col1\" >review_text</th>\n",
       "      <th id=\"T_9bca4_level0_col2\" class=\"col_heading level0 col2\" >rating</th>\n",
       "      <th id=\"T_9bca4_level0_col3\" class=\"col_heading level0 col3\" >recommended_ind</th>\n",
       "      <th id=\"T_9bca4_level0_col4\" class=\"col_heading level0 col4\" >tb_pol</th>\n",
       "      <th id=\"T_9bca4_level0_col5\" class=\"col_heading level0 col5\" >tb_subj</th>\n",
       "      <th id=\"T_9bca4_level0_col6\" class=\"col_heading level0 col6\" >compound</th>\n",
       "      <th id=\"T_9bca4_level0_col7\" class=\"col_heading level0 col7\" >neg</th>\n",
       "      <th id=\"T_9bca4_level0_col8\" class=\"col_heading level0 col8\" >neu</th>\n",
       "      <th id=\"T_9bca4_level0_col9\" class=\"col_heading level0 col9\" >pos</th>\n",
       "    </tr>\n",
       "  </thead>\n",
       "  <tbody>\n",
       "    <tr>\n",
       "      <td id=\"T_9bca4_row0_col0\" class=\"data row0 col0\" >767</td>\n",
       "      <td id=\"T_9bca4_row0_col1\" class=\"data row0 col1\" >Absolutely wonderful - silky and sexy and comfortable</td>\n",
       "      <td id=\"T_9bca4_row0_col2\" class=\"data row0 col2\" >4</td>\n",
       "      <td id=\"T_9bca4_row0_col3\" class=\"data row0 col3\" >1</td>\n",
       "      <td id=\"T_9bca4_row0_col4\" class=\"data row0 col4\" >0.63</td>\n",
       "      <td id=\"T_9bca4_row0_col5\" class=\"data row0 col5\" >0.93</td>\n",
       "      <td id=\"T_9bca4_row0_col6\" class=\"data row0 col6\" >0.89</td>\n",
       "      <td id=\"T_9bca4_row0_col7\" class=\"data row0 col7\" >0.00</td>\n",
       "      <td id=\"T_9bca4_row0_col8\" class=\"data row0 col8\" >0.32</td>\n",
       "      <td id=\"T_9bca4_row0_col9\" class=\"data row0 col9\" >0.68</td>\n",
       "    </tr>\n",
       "    <tr>\n",
       "      <td id=\"T_9bca4_row1_col0\" class=\"data row1 col0\" >1080</td>\n",
       "      <td id=\"T_9bca4_row1_col1\" class=\"data row1 col1\" >Love this dress!  it's sooo pretty.  i happened to find it in a store, and i'm glad i did bc i never would have ordered it online bc it's petite.  i bought a petite and am 5'8\".  i love the length on me- hits just a little below the knee.  would definitely be a true midi on someone who is truly petite.</td>\n",
       "      <td id=\"T_9bca4_row1_col2\" class=\"data row1 col2\" >5</td>\n",
       "      <td id=\"T_9bca4_row1_col3\" class=\"data row1 col3\" >1</td>\n",
       "      <td id=\"T_9bca4_row1_col4\" class=\"data row1 col4\" >0.34</td>\n",
       "      <td id=\"T_9bca4_row1_col5\" class=\"data row1 col5\" >0.73</td>\n",
       "      <td id=\"T_9bca4_row1_col6\" class=\"data row1 col6\" >0.97</td>\n",
       "      <td id=\"T_9bca4_row1_col7\" class=\"data row1 col7\" >0.00</td>\n",
       "      <td id=\"T_9bca4_row1_col8\" class=\"data row1 col8\" >0.70</td>\n",
       "      <td id=\"T_9bca4_row1_col9\" class=\"data row1 col9\" >0.30</td>\n",
       "    </tr>\n",
       "    <tr>\n",
       "      <td id=\"T_9bca4_row2_col0\" class=\"data row2 col0\" >1077</td>\n",
       "      <td id=\"T_9bca4_row2_col1\" class=\"data row2 col1\" >I had such high hopes for this dress and really wanted it to work for me. i initially ordered the petite small (my usual size) but i found this to be outrageously small. so small in fact that i could not zip it up! i reordered it in petite medium, which was just ok. overall, the top half was comfortable and fit nicely, but the bottom half had a very tight under layer and several somewhat cheap (net) over layers. imo, a major design flaw was the net over layer sewn directly into the zipper - it c</td>\n",
       "      <td id=\"T_9bca4_row2_col2\" class=\"data row2 col2\" >3</td>\n",
       "      <td id=\"T_9bca4_row2_col3\" class=\"data row2 col3\" >0</td>\n",
       "      <td id=\"T_9bca4_row2_col4\" class=\"data row2 col4\" >0.07</td>\n",
       "      <td id=\"T_9bca4_row2_col5\" class=\"data row2 col5\" >0.36</td>\n",
       "      <td id=\"T_9bca4_row2_col6\" class=\"data row2 col6\" >0.92</td>\n",
       "      <td id=\"T_9bca4_row2_col7\" class=\"data row2 col7\" >0.03</td>\n",
       "      <td id=\"T_9bca4_row2_col8\" class=\"data row2 col8\" >0.83</td>\n",
       "      <td id=\"T_9bca4_row2_col9\" class=\"data row2 col9\" >0.14</td>\n",
       "    </tr>\n",
       "    <tr>\n",
       "      <td id=\"T_9bca4_row3_col0\" class=\"data row3 col0\" >1049</td>\n",
       "      <td id=\"T_9bca4_row3_col1\" class=\"data row3 col1\" >I love, love, love this jumpsuit. it's fun, flirty, and fabulous! every time i wear it, i get nothing but great compliments!</td>\n",
       "      <td id=\"T_9bca4_row3_col2\" class=\"data row3 col2\" >5</td>\n",
       "      <td id=\"T_9bca4_row3_col3\" class=\"data row3 col3\" >1</td>\n",
       "      <td id=\"T_9bca4_row3_col4\" class=\"data row3 col4\" >0.55</td>\n",
       "      <td id=\"T_9bca4_row3_col5\" class=\"data row3 col5\" >0.62</td>\n",
       "      <td id=\"T_9bca4_row3_col6\" class=\"data row3 col6\" >0.57</td>\n",
       "      <td id=\"T_9bca4_row3_col7\" class=\"data row3 col7\" >0.21</td>\n",
       "      <td id=\"T_9bca4_row3_col8\" class=\"data row3 col8\" >0.40</td>\n",
       "      <td id=\"T_9bca4_row3_col9\" class=\"data row3 col9\" >0.40</td>\n",
       "    </tr>\n",
       "    <tr>\n",
       "      <td id=\"T_9bca4_row4_col0\" class=\"data row4 col0\" >847</td>\n",
       "      <td id=\"T_9bca4_row4_col1\" class=\"data row4 col1\" >This shirt is very flattering to all due to the adjustable front tie. it is the perfect length to wear with leggings and it is sleeveless so it pairs well with any cardigan. love this shirt!!!</td>\n",
       "      <td id=\"T_9bca4_row4_col2\" class=\"data row4 col2\" >5</td>\n",
       "      <td id=\"T_9bca4_row4_col3\" class=\"data row4 col3\" >1</td>\n",
       "      <td id=\"T_9bca4_row4_col4\" class=\"data row4 col4\" >0.51</td>\n",
       "      <td id=\"T_9bca4_row4_col5\" class=\"data row4 col5\" >0.57</td>\n",
       "      <td id=\"T_9bca4_row4_col6\" class=\"data row4 col6\" >0.93</td>\n",
       "      <td id=\"T_9bca4_row4_col7\" class=\"data row4 col7\" >0.00</td>\n",
       "      <td id=\"T_9bca4_row4_col8\" class=\"data row4 col8\" >0.70</td>\n",
       "      <td id=\"T_9bca4_row4_col9\" class=\"data row4 col9\" >0.30</td>\n",
       "    </tr>\n",
       "    <tr>\n",
       "      <td id=\"T_9bca4_row5_col0\" class=\"data row5 col0\" >1080</td>\n",
       "      <td id=\"T_9bca4_row5_col1\" class=\"data row5 col1\" >I love tracy reese dresses, but this one is not for the very petite. i am just under 5 feet tall and usually wear a 0p in this brand. this dress was very pretty out of the package but its a lot of dress. the skirt is long and very full so it overwhelmed my small frame. not a stranger to alterations, shortening and narrowing the skirt would take away from the embellishment of the garment. i love the color and the idea of the style but it just did not work on me. i returned this dress.</td>\n",
       "      <td id=\"T_9bca4_row5_col2\" class=\"data row5 col2\" >2</td>\n",
       "      <td id=\"T_9bca4_row5_col3\" class=\"data row5 col3\" >0</td>\n",
       "      <td id=\"T_9bca4_row5_col4\" class=\"data row5 col4\" >0.18</td>\n",
       "      <td id=\"T_9bca4_row5_col5\" class=\"data row5 col5\" >0.53</td>\n",
       "      <td id=\"T_9bca4_row5_col6\" class=\"data row5 col6\" >0.94</td>\n",
       "      <td id=\"T_9bca4_row5_col7\" class=\"data row5 col7\" >0.00</td>\n",
       "      <td id=\"T_9bca4_row5_col8\" class=\"data row5 col8\" >0.86</td>\n",
       "      <td id=\"T_9bca4_row5_col9\" class=\"data row5 col9\" >0.14</td>\n",
       "    </tr>\n",
       "    <tr>\n",
       "      <td id=\"T_9bca4_row6_col0\" class=\"data row6 col0\" >858</td>\n",
       "      <td id=\"T_9bca4_row6_col1\" class=\"data row6 col1\" >I aded this in my basket at hte last mintue to see what it would look like in person. (store pick up). i went with teh darkler color only because i am so pale :-) hte color is really gorgeous, and turns out it mathced everythiing i was trying on with it prefectly. it is a little baggy on me and hte xs is hte msallet size (bummer, no petite). i decided to jkeep it though, because as i said, it matvehd everything. my ejans, pants, and the 3 skirts i waas trying on (of which i ]kept all ) oops.</td>\n",
       "      <td id=\"T_9bca4_row6_col2\" class=\"data row6 col2\" >5</td>\n",
       "      <td id=\"T_9bca4_row6_col3\" class=\"data row6 col3\" >1</td>\n",
       "      <td id=\"T_9bca4_row6_col4\" class=\"data row6 col4\" >0.13</td>\n",
       "      <td id=\"T_9bca4_row6_col5\" class=\"data row6 col5\" >0.61</td>\n",
       "      <td id=\"T_9bca4_row6_col6\" class=\"data row6 col6\" >0.68</td>\n",
       "      <td id=\"T_9bca4_row6_col7\" class=\"data row6 col7\" >0.04</td>\n",
       "      <td id=\"T_9bca4_row6_col8\" class=\"data row6 col8\" >0.87</td>\n",
       "      <td id=\"T_9bca4_row6_col9\" class=\"data row6 col9\" >0.09</td>\n",
       "    </tr>\n",
       "    <tr>\n",
       "      <td id=\"T_9bca4_row7_col0\" class=\"data row7 col0\" >858</td>\n",
       "      <td id=\"T_9bca4_row7_col1\" class=\"data row7 col1\" >I ordered this in carbon for store pick up, and had a ton of stuff (as always) to try on and used this top to pair (skirts and pants). everything went with it. the color is really nice charcoal with shimmer, and went well with pencil skirts, flare pants, etc. my only compaint is it is a bit big, sleeves are long and it doesn't go in petite. also a bit loose for me, but no xxs... so i kept it and wil ldecide later since the light color is already sold out in hte smallest size...</td>\n",
       "      <td id=\"T_9bca4_row7_col2\" class=\"data row7 col2\" >4</td>\n",
       "      <td id=\"T_9bca4_row7_col3\" class=\"data row7 col3\" >1</td>\n",
       "      <td id=\"T_9bca4_row7_col4\" class=\"data row7 col4\" >0.17</td>\n",
       "      <td id=\"T_9bca4_row7_col5\" class=\"data row7 col5\" >0.50</td>\n",
       "      <td id=\"T_9bca4_row7_col6\" class=\"data row7 col6\" >-0.09</td>\n",
       "      <td id=\"T_9bca4_row7_col7\" class=\"data row7 col7\" >0.04</td>\n",
       "      <td id=\"T_9bca4_row7_col8\" class=\"data row7 col8\" >0.91</td>\n",
       "      <td id=\"T_9bca4_row7_col9\" class=\"data row7 col9\" >0.05</td>\n",
       "    </tr>\n",
       "    <tr>\n",
       "      <td id=\"T_9bca4_row8_col0\" class=\"data row8 col0\" >1077</td>\n",
       "      <td id=\"T_9bca4_row8_col1\" class=\"data row8 col1\" >I love this dress. i usually get an xs but it runs a little snug in bust so i ordered up a size. very flattering and feminine with the usual retailer flair for style.</td>\n",
       "      <td id=\"T_9bca4_row8_col2\" class=\"data row8 col2\" >5</td>\n",
       "      <td id=\"T_9bca4_row8_col3\" class=\"data row8 col3\" >1</td>\n",
       "      <td id=\"T_9bca4_row8_col4\" class=\"data row8 col4\" >0.00</td>\n",
       "      <td id=\"T_9bca4_row8_col5\" class=\"data row8 col5\" >0.38</td>\n",
       "      <td id=\"T_9bca4_row8_col6\" class=\"data row8 col6\" >0.72</td>\n",
       "      <td id=\"T_9bca4_row8_col7\" class=\"data row8 col7\" >0.00</td>\n",
       "      <td id=\"T_9bca4_row8_col8\" class=\"data row8 col8\" >0.84</td>\n",
       "      <td id=\"T_9bca4_row8_col9\" class=\"data row8 col9\" >0.16</td>\n",
       "    </tr>\n",
       "    <tr>\n",
       "      <td id=\"T_9bca4_row9_col0\" class=\"data row9 col0\" >1077</td>\n",
       "      <td id=\"T_9bca4_row9_col1\" class=\"data row9 col1\" >I'm 5\"5' and 125 lbs. i ordered the s petite to make sure the length wasn't too long. i typically wear an xs regular in retailer dresses. if you're less busty (34b cup or smaller), a s petite will fit you perfectly (snug, but not tight). i love that i could dress it up for a party, or down for work. i love that the tulle is longer then the fabric underneath.</td>\n",
       "      <td id=\"T_9bca4_row9_col2\" class=\"data row9 col2\" >5</td>\n",
       "      <td id=\"T_9bca4_row9_col3\" class=\"data row9 col3\" >1</td>\n",
       "      <td id=\"T_9bca4_row9_col4\" class=\"data row9 col4\" >0.20</td>\n",
       "      <td id=\"T_9bca4_row9_col5\" class=\"data row9 col5\" >0.47</td>\n",
       "      <td id=\"T_9bca4_row9_col6\" class=\"data row9 col6\" >0.87</td>\n",
       "      <td id=\"T_9bca4_row9_col7\" class=\"data row9 col7\" >0.05</td>\n",
       "      <td id=\"T_9bca4_row9_col8\" class=\"data row9 col8\" >0.77</td>\n",
       "      <td id=\"T_9bca4_row9_col9\" class=\"data row9 col9\" >0.18</td>\n",
       "    </tr>\n",
       "  </tbody>\n",
       "</table>\n"
      ],
      "text/plain": [
       "<pandas.io.formats.style.Styler at 0x28b9940fd10>"
      ]
     },
     "metadata": {},
     "output_type": "display_data"
    }
   ],
   "source": [
    "selected_columns = ['clothing_id', 'review_text', 'rating', 'recommended_ind', 'tb_pol',\n",
    "                    'tb_subj', 'compound', 'neg', 'neu', 'pos']\n",
    "\n",
    "columns_to_highlight = ['rating', 'compound', 'tb_pol']\n",
    "\n",
    "styled_df = df[selected_columns].head(10).style.hide(axis=\"index\") \\\n",
    "                    .format({\"tb_pol\": \"{:.2f}\",\n",
    "                             'tb_subj': \"{:.2f}\",\n",
    "                             \"compound\": \"{:.2f}\",\n",
    "                             \"neg\": \"{:.2f}\",\n",
    "                             \"neu\": \"{:.2f}\",\n",
    "                             \"pos\": \"{:.2f}\"}) \\\n",
    "                    .background_gradient(cmap='RdYlGn', subset=columns_to_highlight) \n",
    "\n",
    "display(styled_df)"
   ]
  },
  {
   "cell_type": "markdown",
   "metadata": {},
   "source": [
    "Both polarity (from Textblob) and compound score (from Vader) are metrics that try to capture the overall sentiment of a text, in slightly different ways. Because they aim to represent similar concepts, it's reasonable to see how each correlates with explicit ratings."
   ]
  },
  {
   "cell_type": "markdown",
   "metadata": {},
   "source": [
    "1. Polarity (Textblob):¶\n",
    "- Ranges from -1 to 1.\n",
    "- A value closer to 1 means positive sentiment, a value closer to -1 means negative sentiment, and values close to 0 indicate neutral sentiment.\n",
    "2. Compound Score (Vader):\n",
    "- Also ranges from -1 to 1.\n",
    "- A positive compound score signifies a positive sentiment, a negative one signifies a negative sentiment, and scores close to 0 are neutral.\n",
    "- VADER, being designed specifically for social media text, takes into account intensifiers, emojis, and other nuances.\n",
    "Before advancing to further analysis, the cleaned dataset, now inclusive of TextBlob and Vader scores, will be stored in the Working space as a CSV file for future iterations."
   ]
  },
  {
   "cell_type": "code",
   "execution_count": 43,
   "metadata": {},
   "outputs": [],
   "source": [
    "df.to_csv('../data/tb_vader.csv', index=False)\n"
   ]
  },
  {
   "cell_type": "code",
   "execution_count": 44,
   "metadata": {},
   "outputs": [],
   "source": [
    "url2=\"../data/tb_vader.csv\"\n",
    "df_Vader = pd.read_csv(url2)"
   ]
  },
  {
   "cell_type": "code",
   "execution_count": 46,
   "metadata": {},
   "outputs": [
    {
     "data": {
      "text/html": [
       "<div>\n",
       "<style scoped>\n",
       "    .dataframe tbody tr th:only-of-type {\n",
       "        vertical-align: middle;\n",
       "    }\n",
       "\n",
       "    .dataframe tbody tr th {\n",
       "        vertical-align: top;\n",
       "    }\n",
       "\n",
       "    .dataframe thead th {\n",
       "        text-align: right;\n",
       "    }\n",
       "</style>\n",
       "<table border=\"1\" class=\"dataframe\">\n",
       "  <thead>\n",
       "    <tr style=\"text-align: right;\">\n",
       "      <th></th>\n",
       "      <th>clothing_id</th>\n",
       "      <th>age</th>\n",
       "      <th>title</th>\n",
       "      <th>review_text</th>\n",
       "      <th>rating</th>\n",
       "      <th>recommended_ind</th>\n",
       "      <th>positive_feedback_count</th>\n",
       "      <th>division_name</th>\n",
       "      <th>department_name</th>\n",
       "      <th>class_name</th>\n",
       "      <th>tb_pol</th>\n",
       "      <th>tb_subj</th>\n",
       "      <th>compound</th>\n",
       "      <th>neg</th>\n",
       "      <th>neu</th>\n",
       "      <th>pos</th>\n",
       "    </tr>\n",
       "  </thead>\n",
       "  <tbody>\n",
       "    <tr>\n",
       "      <th>0</th>\n",
       "      <td>767</td>\n",
       "      <td>33</td>\n",
       "      <td>NaN</td>\n",
       "      <td>Absolutely wonderful - silky and sexy and comfortable</td>\n",
       "      <td>4</td>\n",
       "      <td>1</td>\n",
       "      <td>0</td>\n",
       "      <td>Intimates</td>\n",
       "      <td>Intimates</td>\n",
       "      <td>Intimates</td>\n",
       "      <td>0.633333</td>\n",
       "      <td>0.933333</td>\n",
       "      <td>0.8932</td>\n",
       "      <td>0.000</td>\n",
       "      <td>0.319</td>\n",
       "      <td>0.681</td>\n",
       "    </tr>\n",
       "    <tr>\n",
       "      <th>1</th>\n",
       "      <td>1080</td>\n",
       "      <td>34</td>\n",
       "      <td>NaN</td>\n",
       "      <td>Love this dress!  it's sooo pretty.  i happened to find it in a store, and i'm glad i did bc i never would have ordered it online bc it's petite.  i bought a petite and am 5'8\".  i love the length on me- hits just a little below the knee.  would definitely be a true midi on someone who is truly petite.</td>\n",
       "      <td>5</td>\n",
       "      <td>1</td>\n",
       "      <td>4</td>\n",
       "      <td>General</td>\n",
       "      <td>Dresses</td>\n",
       "      <td>Dresses</td>\n",
       "      <td>0.339583</td>\n",
       "      <td>0.725000</td>\n",
       "      <td>0.9729</td>\n",
       "      <td>0.000</td>\n",
       "      <td>0.702</td>\n",
       "      <td>0.298</td>\n",
       "    </tr>\n",
       "    <tr>\n",
       "      <th>2</th>\n",
       "      <td>1077</td>\n",
       "      <td>60</td>\n",
       "      <td>Some major design flaws</td>\n",
       "      <td>I had such high hopes for this dress and really wanted it to work for me. i initially ordered the petite small (my usual size) but i found this to be outrageously small. so small in fact that i could not zip it up! i reordered it in petite medium, which was just ok. overall, the top half was comfortable and fit nicely, but the bottom half had a very tight under layer and several somewhat cheap (net) over layers. imo, a major design flaw was the net over layer sewn directly into the zipper - it c</td>\n",
       "      <td>3</td>\n",
       "      <td>0</td>\n",
       "      <td>0</td>\n",
       "      <td>General</td>\n",
       "      <td>Dresses</td>\n",
       "      <td>Dresses</td>\n",
       "      <td>0.073675</td>\n",
       "      <td>0.356294</td>\n",
       "      <td>0.9208</td>\n",
       "      <td>0.025</td>\n",
       "      <td>0.831</td>\n",
       "      <td>0.144</td>\n",
       "    </tr>\n",
       "    <tr>\n",
       "      <th>3</th>\n",
       "      <td>1049</td>\n",
       "      <td>50</td>\n",
       "      <td>My favorite buy!</td>\n",
       "      <td>I love, love, love this jumpsuit. it's fun, flirty, and fabulous! every time i wear it, i get nothing but great compliments!</td>\n",
       "      <td>5</td>\n",
       "      <td>1</td>\n",
       "      <td>0</td>\n",
       "      <td>General Petite</td>\n",
       "      <td>Bottoms</td>\n",
       "      <td>Pants</td>\n",
       "      <td>0.550000</td>\n",
       "      <td>0.625000</td>\n",
       "      <td>0.5727</td>\n",
       "      <td>0.207</td>\n",
       "      <td>0.396</td>\n",
       "      <td>0.397</td>\n",
       "    </tr>\n",
       "    <tr>\n",
       "      <th>4</th>\n",
       "      <td>847</td>\n",
       "      <td>47</td>\n",
       "      <td>Flattering shirt</td>\n",
       "      <td>This shirt is very flattering to all due to the adjustable front tie. it is the perfect length to wear with leggings and it is sleeveless so it pairs well with any cardigan. love this shirt!!!</td>\n",
       "      <td>5</td>\n",
       "      <td>1</td>\n",
       "      <td>6</td>\n",
       "      <td>General</td>\n",
       "      <td>Tops</td>\n",
       "      <td>Blouses</td>\n",
       "      <td>0.512891</td>\n",
       "      <td>0.568750</td>\n",
       "      <td>0.9291</td>\n",
       "      <td>0.000</td>\n",
       "      <td>0.700</td>\n",
       "      <td>0.300</td>\n",
       "    </tr>\n",
       "  </tbody>\n",
       "</table>\n",
       "</div>"
      ],
      "text/plain": [
       "   clothing_id  age                    title   \n",
       "0          767   33                      NaN  \\\n",
       "1         1080   34                      NaN   \n",
       "2         1077   60  Some major design flaws   \n",
       "3         1049   50         My favorite buy!   \n",
       "4          847   47         Flattering shirt   \n",
       "\n",
       "                                                                                                                                                                                                                                                                                                                                                                                                                                                                                                            review_text   \n",
       "0                                                                                                                                                                                                                                                                                                                                                                                                                                                                 Absolutely wonderful - silky and sexy and comfortable  \\\n",
       "1                                                                                                                                                                                                       Love this dress!  it's sooo pretty.  i happened to find it in a store, and i'm glad i did bc i never would have ordered it online bc it's petite.  i bought a petite and am 5'8\".  i love the length on me- hits just a little below the knee.  would definitely be a true midi on someone who is truly petite.   \n",
       "2  I had such high hopes for this dress and really wanted it to work for me. i initially ordered the petite small (my usual size) but i found this to be outrageously small. so small in fact that i could not zip it up! i reordered it in petite medium, which was just ok. overall, the top half was comfortable and fit nicely, but the bottom half had a very tight under layer and several somewhat cheap (net) over layers. imo, a major design flaw was the net over layer sewn directly into the zipper - it c   \n",
       "3                                                                                                                                                                                                                                                                                                                                                                                          I love, love, love this jumpsuit. it's fun, flirty, and fabulous! every time i wear it, i get nothing but great compliments!   \n",
       "4                                                                                                                                                                                                                                                                                                                      This shirt is very flattering to all due to the adjustable front tie. it is the perfect length to wear with leggings and it is sleeveless so it pairs well with any cardigan. love this shirt!!!   \n",
       "\n",
       "   rating  recommended_ind  positive_feedback_count   division_name   \n",
       "0       4                1                        0       Intimates  \\\n",
       "1       5                1                        4         General   \n",
       "2       3                0                        0         General   \n",
       "3       5                1                        0  General Petite   \n",
       "4       5                1                        6         General   \n",
       "\n",
       "  department_name class_name    tb_pol   tb_subj  compound    neg    neu   \n",
       "0       Intimates  Intimates  0.633333  0.933333    0.8932  0.000  0.319  \\\n",
       "1         Dresses    Dresses  0.339583  0.725000    0.9729  0.000  0.702   \n",
       "2         Dresses    Dresses  0.073675  0.356294    0.9208  0.025  0.831   \n",
       "3         Bottoms      Pants  0.550000  0.625000    0.5727  0.207  0.396   \n",
       "4            Tops    Blouses  0.512891  0.568750    0.9291  0.000  0.700   \n",
       "\n",
       "     pos  \n",
       "0  0.681  \n",
       "1  0.298  \n",
       "2  0.144  \n",
       "3  0.397  \n",
       "4  0.300  "
      ]
     },
     "execution_count": 46,
     "metadata": {},
     "output_type": "execute_result"
    }
   ],
   "source": [
    "df.head()\n"
   ]
  },
  {
   "cell_type": "code",
   "execution_count": 49,
   "metadata": {},
   "outputs": [
    {
     "data": {
      "text/html": [
       "<div>\n",
       "<style scoped>\n",
       "    .dataframe tbody tr th:only-of-type {\n",
       "        vertical-align: middle;\n",
       "    }\n",
       "\n",
       "    .dataframe tbody tr th {\n",
       "        vertical-align: top;\n",
       "    }\n",
       "\n",
       "    .dataframe thead th {\n",
       "        text-align: right;\n",
       "    }\n",
       "</style>\n",
       "<table border=\"1\" class=\"dataframe\">\n",
       "  <thead>\n",
       "    <tr style=\"text-align: right;\">\n",
       "      <th></th>\n",
       "      <th>clothing_id</th>\n",
       "      <th>age</th>\n",
       "      <th>title</th>\n",
       "      <th>review_text</th>\n",
       "      <th>rating</th>\n",
       "      <th>recommended_ind</th>\n",
       "      <th>positive_feedback_count</th>\n",
       "      <th>division_name</th>\n",
       "      <th>department_name</th>\n",
       "      <th>class_name</th>\n",
       "      <th>tb_pol</th>\n",
       "      <th>tb_subj</th>\n",
       "      <th>compound</th>\n",
       "      <th>neg</th>\n",
       "      <th>neu</th>\n",
       "      <th>pos</th>\n",
       "    </tr>\n",
       "  </thead>\n",
       "  <tbody>\n",
       "    <tr>\n",
       "      <th>0</th>\n",
       "      <td>767</td>\n",
       "      <td>33</td>\n",
       "      <td>NaN</td>\n",
       "      <td>Absolutely wonderful - silky and sexy and comfortable</td>\n",
       "      <td>4</td>\n",
       "      <td>1</td>\n",
       "      <td>0</td>\n",
       "      <td>Intimates</td>\n",
       "      <td>Intimates</td>\n",
       "      <td>Intimates</td>\n",
       "      <td>0.633333</td>\n",
       "      <td>0.933333</td>\n",
       "      <td>0.8932</td>\n",
       "      <td>0.000</td>\n",
       "      <td>0.319</td>\n",
       "      <td>0.681</td>\n",
       "    </tr>\n",
       "    <tr>\n",
       "      <th>1</th>\n",
       "      <td>1080</td>\n",
       "      <td>34</td>\n",
       "      <td>NaN</td>\n",
       "      <td>Love this dress!  it's sooo pretty.  i happened to find it in a store, and i'm glad i did bc i never would have ordered it online bc it's petite.  i bought a petite and am 5'8\".  i love the length on me- hits just a little below the knee.  would definitely be a true midi on someone who is truly petite.</td>\n",
       "      <td>5</td>\n",
       "      <td>1</td>\n",
       "      <td>4</td>\n",
       "      <td>General</td>\n",
       "      <td>Dresses</td>\n",
       "      <td>Dresses</td>\n",
       "      <td>0.339583</td>\n",
       "      <td>0.725000</td>\n",
       "      <td>0.9729</td>\n",
       "      <td>0.000</td>\n",
       "      <td>0.702</td>\n",
       "      <td>0.298</td>\n",
       "    </tr>\n",
       "    <tr>\n",
       "      <th>2</th>\n",
       "      <td>1077</td>\n",
       "      <td>60</td>\n",
       "      <td>Some major design flaws</td>\n",
       "      <td>I had such high hopes for this dress and really wanted it to work for me. i initially ordered the petite small (my usual size) but i found this to be outrageously small. so small in fact that i could not zip it up! i reordered it in petite medium, which was just ok. overall, the top half was comfortable and fit nicely, but the bottom half had a very tight under layer and several somewhat cheap (net) over layers. imo, a major design flaw was the net over layer sewn directly into the zipper - it c</td>\n",
       "      <td>3</td>\n",
       "      <td>0</td>\n",
       "      <td>0</td>\n",
       "      <td>General</td>\n",
       "      <td>Dresses</td>\n",
       "      <td>Dresses</td>\n",
       "      <td>0.073675</td>\n",
       "      <td>0.356294</td>\n",
       "      <td>0.9208</td>\n",
       "      <td>0.025</td>\n",
       "      <td>0.831</td>\n",
       "      <td>0.144</td>\n",
       "    </tr>\n",
       "    <tr>\n",
       "      <th>3</th>\n",
       "      <td>1049</td>\n",
       "      <td>50</td>\n",
       "      <td>My favorite buy!</td>\n",
       "      <td>I love, love, love this jumpsuit. it's fun, flirty, and fabulous! every time i wear it, i get nothing but great compliments!</td>\n",
       "      <td>5</td>\n",
       "      <td>1</td>\n",
       "      <td>0</td>\n",
       "      <td>General Petite</td>\n",
       "      <td>Bottoms</td>\n",
       "      <td>Pants</td>\n",
       "      <td>0.550000</td>\n",
       "      <td>0.625000</td>\n",
       "      <td>0.5727</td>\n",
       "      <td>0.207</td>\n",
       "      <td>0.396</td>\n",
       "      <td>0.397</td>\n",
       "    </tr>\n",
       "    <tr>\n",
       "      <th>4</th>\n",
       "      <td>847</td>\n",
       "      <td>47</td>\n",
       "      <td>Flattering shirt</td>\n",
       "      <td>This shirt is very flattering to all due to the adjustable front tie. it is the perfect length to wear with leggings and it is sleeveless so it pairs well with any cardigan. love this shirt!!!</td>\n",
       "      <td>5</td>\n",
       "      <td>1</td>\n",
       "      <td>6</td>\n",
       "      <td>General</td>\n",
       "      <td>Tops</td>\n",
       "      <td>Blouses</td>\n",
       "      <td>0.512891</td>\n",
       "      <td>0.568750</td>\n",
       "      <td>0.9291</td>\n",
       "      <td>0.000</td>\n",
       "      <td>0.700</td>\n",
       "      <td>0.300</td>\n",
       "    </tr>\n",
       "    <tr>\n",
       "      <th>...</th>\n",
       "      <td>...</td>\n",
       "      <td>...</td>\n",
       "      <td>...</td>\n",
       "      <td>...</td>\n",
       "      <td>...</td>\n",
       "      <td>...</td>\n",
       "      <td>...</td>\n",
       "      <td>...</td>\n",
       "      <td>...</td>\n",
       "      <td>...</td>\n",
       "      <td>...</td>\n",
       "      <td>...</td>\n",
       "      <td>...</td>\n",
       "      <td>...</td>\n",
       "      <td>...</td>\n",
       "      <td>...</td>\n",
       "    </tr>\n",
       "    <tr>\n",
       "      <th>22622</th>\n",
       "      <td>1104</td>\n",
       "      <td>34</td>\n",
       "      <td>Great dress for many occasions</td>\n",
       "      <td>I was very happy to snag this dress at such a great price! it's very easy to slip on and has a very flattering cut and color combo.</td>\n",
       "      <td>5</td>\n",
       "      <td>1</td>\n",
       "      <td>0</td>\n",
       "      <td>General Petite</td>\n",
       "      <td>Dresses</td>\n",
       "      <td>Dresses</td>\n",
       "      <td>0.552667</td>\n",
       "      <td>0.710000</td>\n",
       "      <td>0.9152</td>\n",
       "      <td>0.060</td>\n",
       "      <td>0.582</td>\n",
       "      <td>0.358</td>\n",
       "    </tr>\n",
       "    <tr>\n",
       "      <th>22623</th>\n",
       "      <td>862</td>\n",
       "      <td>48</td>\n",
       "      <td>Wish it was made of cotton</td>\n",
       "      <td>It reminds me of maternity clothes. soft, stretchy, shiny material. cut is flattering and drapes nicely. i only found one button to close front... looked awkward. nice long sleeves.\\nnot for me but maybe for others. just ok.</td>\n",
       "      <td>3</td>\n",
       "      <td>1</td>\n",
       "      <td>0</td>\n",
       "      <td>General Petite</td>\n",
       "      <td>Tops</td>\n",
       "      <td>Knits</td>\n",
       "      <td>0.091667</td>\n",
       "      <td>0.708333</td>\n",
       "      <td>0.3919</td>\n",
       "      <td>0.069</td>\n",
       "      <td>0.798</td>\n",
       "      <td>0.133</td>\n",
       "    </tr>\n",
       "    <tr>\n",
       "      <th>22624</th>\n",
       "      <td>1104</td>\n",
       "      <td>31</td>\n",
       "      <td>Cute, but see through</td>\n",
       "      <td>This fit well, but the top was very see through. this never would have worked for me. i'm glad i was able to try it on in the store and didn't order it online. with different fabric, it would have been great.</td>\n",
       "      <td>3</td>\n",
       "      <td>0</td>\n",
       "      <td>1</td>\n",
       "      <td>General Petite</td>\n",
       "      <td>Dresses</td>\n",
       "      <td>Dresses</td>\n",
       "      <td>0.414286</td>\n",
       "      <td>0.596429</td>\n",
       "      <td>0.9343</td>\n",
       "      <td>0.000</td>\n",
       "      <td>0.709</td>\n",
       "      <td>0.291</td>\n",
       "    </tr>\n",
       "    <tr>\n",
       "      <th>22625</th>\n",
       "      <td>1084</td>\n",
       "      <td>28</td>\n",
       "      <td>Very cute dress, perfect for summer parties and we</td>\n",
       "      <td>I bought this dress for a wedding i have this summer, and it's so cute. unfortunately the fit isn't perfect. the medium fits my waist perfectly, but was way too long and too big in the bust and shoulders. if i wanted to spend the money, i could get it tailored, but i just felt like it might not be worth it. side note - this dress was delivered to me with a nordstrom tag on it and i found it much cheaper there after looking!</td>\n",
       "      <td>3</td>\n",
       "      <td>1</td>\n",
       "      <td>2</td>\n",
       "      <td>General</td>\n",
       "      <td>Dresses</td>\n",
       "      <td>Dresses</td>\n",
       "      <td>0.322222</td>\n",
       "      <td>0.577778</td>\n",
       "      <td>0.6692</td>\n",
       "      <td>0.061</td>\n",
       "      <td>0.830</td>\n",
       "      <td>0.109</td>\n",
       "    </tr>\n",
       "    <tr>\n",
       "      <th>22626</th>\n",
       "      <td>1104</td>\n",
       "      <td>52</td>\n",
       "      <td>Please make more like this one!</td>\n",
       "      <td>This dress in a lovely platinum is feminine and fits perfectly, easy to wear and comfy, too! highly recommend!</td>\n",
       "      <td>5</td>\n",
       "      <td>1</td>\n",
       "      <td>22</td>\n",
       "      <td>General Petite</td>\n",
       "      <td>Dresses</td>\n",
       "      <td>Dresses</td>\n",
       "      <td>0.413889</td>\n",
       "      <td>0.707778</td>\n",
       "      <td>0.9358</td>\n",
       "      <td>0.000</td>\n",
       "      <td>0.512</td>\n",
       "      <td>0.488</td>\n",
       "    </tr>\n",
       "  </tbody>\n",
       "</table>\n",
       "<p>22156 rows × 16 columns</p>\n",
       "</div>"
      ],
      "text/plain": [
       "       clothing_id  age                                               title   \n",
       "0              767   33                                                 NaN  \\\n",
       "1             1080   34                                                 NaN   \n",
       "2             1077   60                             Some major design flaws   \n",
       "3             1049   50                                    My favorite buy!   \n",
       "4              847   47                                    Flattering shirt   \n",
       "...            ...  ...                                                 ...   \n",
       "22622         1104   34                      Great dress for many occasions   \n",
       "22623          862   48                          Wish it was made of cotton   \n",
       "22624         1104   31                               Cute, but see through   \n",
       "22625         1084   28  Very cute dress, perfect for summer parties and we   \n",
       "22626         1104   52                     Please make more like this one!   \n",
       "\n",
       "                                                                                                                                                                                                                                                                                                                                                                                                                                                                                                                review_text   \n",
       "0                                                                                                                                                                                                                                                                                                                                                                                                                                                                     Absolutely wonderful - silky and sexy and comfortable  \\\n",
       "1                                                                                                                                                                                                           Love this dress!  it's sooo pretty.  i happened to find it in a store, and i'm glad i did bc i never would have ordered it online bc it's petite.  i bought a petite and am 5'8\".  i love the length on me- hits just a little below the knee.  would definitely be a true midi on someone who is truly petite.   \n",
       "2      I had such high hopes for this dress and really wanted it to work for me. i initially ordered the petite small (my usual size) but i found this to be outrageously small. so small in fact that i could not zip it up! i reordered it in petite medium, which was just ok. overall, the top half was comfortable and fit nicely, but the bottom half had a very tight under layer and several somewhat cheap (net) over layers. imo, a major design flaw was the net over layer sewn directly into the zipper - it c   \n",
       "3                                                                                                                                                                                                                                                                                                                                                                                              I love, love, love this jumpsuit. it's fun, flirty, and fabulous! every time i wear it, i get nothing but great compliments!   \n",
       "4                                                                                                                                                                                                                                                                                                                          This shirt is very flattering to all due to the adjustable front tie. it is the perfect length to wear with leggings and it is sleeveless so it pairs well with any cardigan. love this shirt!!!   \n",
       "...                                                                                                                                                                                                                                                                                                                                                                                                                                                                                                                     ...   \n",
       "22622                                                                                                                                                                                                                                                                                                                                                                                   I was very happy to snag this dress at such a great price! it's very easy to slip on and has a very flattering cut and color combo.   \n",
       "22623                                                                                                                                                                                                                                                                                      It reminds me of maternity clothes. soft, stretchy, shiny material. cut is flattering and drapes nicely. i only found one button to close front... looked awkward. nice long sleeves.\\nnot for me but maybe for others. just ok.   \n",
       "22624                                                                                                                                                                                                                                                                                                      This fit well, but the top was very see through. this never would have worked for me. i'm glad i was able to try it on in the store and didn't order it online. with different fabric, it would have been great.   \n",
       "22625                                                                           I bought this dress for a wedding i have this summer, and it's so cute. unfortunately the fit isn't perfect. the medium fits my waist perfectly, but was way too long and too big in the bust and shoulders. if i wanted to spend the money, i could get it tailored, but i just felt like it might not be worth it. side note - this dress was delivered to me with a nordstrom tag on it and i found it much cheaper there after looking!   \n",
       "22626                                                                                                                                                                                                                                                                                                                                                                                                        This dress in a lovely platinum is feminine and fits perfectly, easy to wear and comfy, too! highly recommend!   \n",
       "\n",
       "       rating  recommended_ind  positive_feedback_count   division_name   \n",
       "0           4                1                        0       Intimates  \\\n",
       "1           5                1                        4         General   \n",
       "2           3                0                        0         General   \n",
       "3           5                1                        0  General Petite   \n",
       "4           5                1                        6         General   \n",
       "...       ...              ...                      ...             ...   \n",
       "22622       5                1                        0  General Petite   \n",
       "22623       3                1                        0  General Petite   \n",
       "22624       3                0                        1  General Petite   \n",
       "22625       3                1                        2         General   \n",
       "22626       5                1                       22  General Petite   \n",
       "\n",
       "      department_name class_name    tb_pol   tb_subj  compound    neg    neu   \n",
       "0           Intimates  Intimates  0.633333  0.933333    0.8932  0.000  0.319  \\\n",
       "1             Dresses    Dresses  0.339583  0.725000    0.9729  0.000  0.702   \n",
       "2             Dresses    Dresses  0.073675  0.356294    0.9208  0.025  0.831   \n",
       "3             Bottoms      Pants  0.550000  0.625000    0.5727  0.207  0.396   \n",
       "4                Tops    Blouses  0.512891  0.568750    0.9291  0.000  0.700   \n",
       "...               ...        ...       ...       ...       ...    ...    ...   \n",
       "22622         Dresses    Dresses  0.552667  0.710000    0.9152  0.060  0.582   \n",
       "22623            Tops      Knits  0.091667  0.708333    0.3919  0.069  0.798   \n",
       "22624         Dresses    Dresses  0.414286  0.596429    0.9343  0.000  0.709   \n",
       "22625         Dresses    Dresses  0.322222  0.577778    0.6692  0.061  0.830   \n",
       "22626         Dresses    Dresses  0.413889  0.707778    0.9358  0.000  0.512   \n",
       "\n",
       "         pos  \n",
       "0      0.681  \n",
       "1      0.298  \n",
       "2      0.144  \n",
       "3      0.397  \n",
       "4      0.300  \n",
       "...      ...  \n",
       "22622  0.358  \n",
       "22623  0.133  \n",
       "22624  0.291  \n",
       "22625  0.109  \n",
       "22626  0.488  \n",
       "\n",
       "[22156 rows x 16 columns]"
      ]
     },
     "execution_count": 49,
     "metadata": {},
     "output_type": "execute_result"
    }
   ],
   "source": [
    " df[df.duplicated(subset=['clothing_id'], keep=False)]\n"
   ]
  },
  {
   "cell_type": "code",
   "execution_count": 52,
   "metadata": {},
   "outputs": [
    {
     "name": "stdout",
     "output_type": "stream",
     "text": [
      "      clothing_id  average_vader_score\n",
      "0               1             0.535240\n",
      "1               2             0.400021\n",
      "2               3             0.494881\n",
      "3               4             0.601394\n",
      "4               5             0.701411\n",
      "...           ...                  ...\n",
      "1167         1200             0.433619\n",
      "1168         1202             0.554303\n",
      "1169         1203             0.554194\n",
      "1170         1204             0.559646\n",
      "1171         1205             0.614804\n",
      "\n",
      "[1172 rows x 2 columns]\n"
     ]
    }
   ],
   "source": [
    "\n",
    "# Create DataFrame\n",
    "# df = pd.DataFrame(data)\n",
    "\n",
    "# Calculate average Vader score (mean of tb_pol, tb_subj, and compound), tb_pol\ttb_subj\tcompound\t\n",
    "df['average_vader_score'] = df[['tb_pol', 'tb_subj', 'compound']].mean(axis=1)\n",
    "\n",
    "# Group by clothing_id, department_name, and class_name to get the average Vader score\n",
    "result = df.groupby(['clothing_id'], as_index=False)['average_vader_score'].mean()\n",
    "\n",
    "# Display the result\n",
    "print(result)\n"
   ]
  },
  {
   "cell_type": "code",
   "execution_count": 51,
   "metadata": {},
   "outputs": [
    {
     "name": "stdout",
     "output_type": "stream",
     "text": [
      "<class 'pandas.core.frame.DataFrame'>\n",
      "RangeIndex: 22627 entries, 0 to 22626\n",
      "Data columns (total 17 columns):\n",
      " #   Column                   Non-Null Count  Dtype   \n",
      "---  ------                   --------------  -----   \n",
      " 0   clothing_id              22627 non-null  int64   \n",
      " 1   age                      22627 non-null  int64   \n",
      " 2   title                    19662 non-null  object  \n",
      " 3   review_text              22627 non-null  object  \n",
      " 4   rating                   22627 non-null  int64   \n",
      " 5   recommended_ind          22627 non-null  int64   \n",
      " 6   positive_feedback_count  22627 non-null  int64   \n",
      " 7   division_name            22627 non-null  category\n",
      " 8   department_name          22627 non-null  category\n",
      " 9   class_name               22627 non-null  category\n",
      " 10  tb_pol                   22627 non-null  float64 \n",
      " 11  tb_subj                  22627 non-null  float64 \n",
      " 12  compound                 22627 non-null  float64 \n",
      " 13  neg                      22627 non-null  float64 \n",
      " 14  neu                      22627 non-null  float64 \n",
      " 15  pos                      22627 non-null  float64 \n",
      " 16  average_vader_score      22627 non-null  float64 \n",
      "dtypes: category(3), float64(7), int64(5), object(2)\n",
      "memory usage: 2.5+ MB\n"
     ]
    }
   ],
   "source": [
    "df.info()\n"
   ]
  },
  {
   "cell_type": "markdown",
   "metadata": {},
   "source": [
    "B. Distribution of the compound and polarity against ratin"
   ]
  },
  {
   "cell_type": "markdown",
   "metadata": {},
   "source": [
    "At this stage in the project, we can present a box plot of the distribution of user ratings (1:5) and sentiment scores (-1:1) determined by the sentiment analysis tools Textblob and Vader. These observations suggest that the two tools apply different thresholds for determining what constitutes positive and negative sentiment"
   ]
  },
  {
   "cell_type": "code",
   "execution_count": 45,
   "metadata": {},
   "outputs": [
    {
     "data": {
      "image/png": "[encoded data removed]",
      "text/plain": [
       "<Figure size 1500x600 with 2 Axes>"
      ]
     },
     "metadata": {},
     "output_type": "display_data"
    }
   ],
   "source": [
    "plt.figure(figsize=(15, 6))\n",
    "\n",
    "plt.subplot(1, 2, 1)\n",
    "sns.boxplot(x=df['rating'], y=df['tb_pol'])\n",
    "plt.axhline(0.00, color='red', linestyle='--')  # adds horizontal line at y=0.05 for neutral point\n",
    "\n",
    "plt.title('Distribution of Textblob Polarity by Rating')\n",
    "plt.grid(True, color='lightgrey', linestyle='--', linewidth=0.5, zorder=0) \n",
    "\n",
    "plt.subplot(1, 2, 2)\n",
    "sns.boxplot(x=df['rating'], y=df['compound'])\n",
    "\n",
    "plt.axhline(0.05, color='red', linestyle='--')  #adds horizontal line at y=0.05 for neutral point\n",
    "plt.title('Distribution of Vader Compound Score by Rating')\n",
    "plt.grid(True, color='lightgrey', linestyle='-', linewidth=0.5, which='both', zorder=0) \n",
    "\n",
    "plt.subplots_adjust(bottom=0.2) #subplot layout adjusted to make space for the legend below\n",
    "\n",
    "red_line = mpatches.Patch(color='red', linestyle='--', label='Theoretical neutral point for each sentiment analysis tool')\n",
    "\n",
    "plt.figlegend(handles=[red_line], loc='lower center', ncol=1)\n",
    "\n",
    "plt.tight_layout()\n",
    "plt.show()"
   ]
  }
 ],
 "metadata": {
  "kernelspec": {
   "display_name": ".venv",
   "language": "python",
   "name": "python3"
  },
  "language_info": {
   "codemirror_mode": {
    "name": "ipython",
    "version": 3
   },
   "file_extension": ".py",
   "mimetype": "text/x-python",
   "name": "python",
   "nbconvert_exporter": "python",
   "pygments_lexer": "ipython3",
   "version": "3.11.3"
  }
 },
 "nbformat": 4,
 "nbformat_minor": 2
}
